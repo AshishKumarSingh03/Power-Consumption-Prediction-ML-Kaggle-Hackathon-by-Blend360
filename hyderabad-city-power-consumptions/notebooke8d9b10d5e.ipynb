{
 "cells": [
  {
   "cell_type": "code",
   "execution_count": 1,
   "id": "38ae0372",
   "metadata": {
    "_cell_guid": "b1076dfc-b9ad-4769-8c92-a6c4dae69d19",
    "_uuid": "8f2839f25d086af736a60e9eeb907d3b93b6e0e5",
    "execution": {
     "iopub.execute_input": "2023-02-26T05:37:39.888211Z",
     "iopub.status.busy": "2023-02-26T05:37:39.887589Z",
     "iopub.status.idle": "2023-02-26T05:37:39.907407Z",
     "shell.execute_reply": "2023-02-26T05:37:39.905724Z"
    },
    "papermill": {
     "duration": 0.041183,
     "end_time": "2023-02-26T05:37:39.911223",
     "exception": false,
     "start_time": "2023-02-26T05:37:39.870040",
     "status": "completed"
    },
    "tags": []
   },
   "outputs": [
    {
     "name": "stdout",
     "output_type": "stream",
     "text": [
      "/kaggle/input/hyderabad-city-power-consumptions/Hyderabad_Power_Train.csv\n",
      "/kaggle/input/hyderabad-city-power-consumptions/Hyderabad_Power_Test.csv\n",
      "/kaggle/input/hyderabad-city-power-consumptions/sample_submisson.csv\n"
     ]
    }
   ],
   "source": [
    "# This Python 3 environment comes with many helpful analytics libraries installed\n",
    "# It is defined by the kaggle/python Docker image: https://github.com/kaggle/docker-python\n",
    "# For example, here's several helpful packages to load\n",
    "\n",
    "import numpy as np # linear algebra\n",
    "import pandas as pd # data processing, CSV file I/O (e.g. pd.read_csv)\n",
    "\n",
    "# Input data files are available in the read-only \"../input/\" directory\n",
    "# For example, running this (by clicking run or pressing Shift+Enter) will list all files under the input directory\n",
    "\n",
    "import os\n",
    "for dirname, _, filenames in os.walk('/kaggle/input'):\n",
    "    for filename in filenames:\n",
    "        print(os.path.join(dirname, filename))\n",
    "\n",
    "# You can write up to 20GB to the current directory (/kaggle/working/) that gets preserved as output when you create a version using \"Save & Run All\" \n",
    "# You can also write temporary files to /kaggle/temp/, but they won't be saved outside of the current session"
   ]
  },
  {
   "cell_type": "code",
   "execution_count": 2,
   "id": "2e3d302e",
   "metadata": {
    "execution": {
     "iopub.execute_input": "2023-02-26T05:37:39.941545Z",
     "iopub.status.busy": "2023-02-26T05:37:39.941096Z",
     "iopub.status.idle": "2023-02-26T05:37:40.089285Z",
     "shell.execute_reply": "2023-02-26T05:37:40.087985Z"
    },
    "papermill": {
     "duration": 0.166228,
     "end_time": "2023-02-26T05:37:40.092430",
     "exception": false,
     "start_time": "2023-02-26T05:37:39.926202",
     "status": "completed"
    },
    "tags": []
   },
   "outputs": [],
   "source": [
    "df_train=pd.read_csv('/kaggle/input/hyderabad-city-power-consumptions/Hyderabad_Power_Train.csv')"
   ]
  },
  {
   "cell_type": "code",
   "execution_count": 3,
   "id": "eed2d93d",
   "metadata": {
    "execution": {
     "iopub.execute_input": "2023-02-26T05:37:40.121323Z",
     "iopub.status.busy": "2023-02-26T05:37:40.120867Z",
     "iopub.status.idle": "2023-02-26T05:37:40.140748Z",
     "shell.execute_reply": "2023-02-26T05:37:40.139114Z"
    },
    "papermill": {
     "duration": 0.038022,
     "end_time": "2023-02-26T05:37:40.144023",
     "exception": false,
     "start_time": "2023-02-26T05:37:40.106001",
     "status": "completed"
    },
    "tags": []
   },
   "outputs": [],
   "source": [
    "df_test=pd.read_csv('/kaggle/input/hyderabad-city-power-consumptions/Hyderabad_Power_Test.csv')"
   ]
  },
  {
   "cell_type": "code",
   "execution_count": 4,
   "id": "f99efd17",
   "metadata": {
    "execution": {
     "iopub.execute_input": "2023-02-26T05:37:40.175693Z",
     "iopub.status.busy": "2023-02-26T05:37:40.175202Z",
     "iopub.status.idle": "2023-02-26T05:37:40.217007Z",
     "shell.execute_reply": "2023-02-26T05:37:40.215703Z"
    },
    "papermill": {
     "duration": 0.060171,
     "end_time": "2023-02-26T05:37:40.219892",
     "exception": false,
     "start_time": "2023-02-26T05:37:40.159721",
     "status": "completed"
    },
    "tags": []
   },
   "outputs": [
    {
     "data": {
      "text/html": [
       "<div>\n",
       "<style scoped>\n",
       "    .dataframe tbody tr th:only-of-type {\n",
       "        vertical-align: middle;\n",
       "    }\n",
       "\n",
       "    .dataframe tbody tr th {\n",
       "        vertical-align: top;\n",
       "    }\n",
       "\n",
       "    .dataframe thead th {\n",
       "        text-align: right;\n",
       "    }\n",
       "</style>\n",
       "<table border=\"1\" class=\"dataframe\">\n",
       "  <thead>\n",
       "    <tr style=\"text-align: right;\">\n",
       "      <th></th>\n",
       "      <th>DateTime</th>\n",
       "      <th>Temperature</th>\n",
       "      <th>Humidity</th>\n",
       "      <th>Wind Speed</th>\n",
       "      <th>general diffuse flows</th>\n",
       "      <th>diffuse flows</th>\n",
       "      <th>Zone 1 Power Consumption</th>\n",
       "      <th>Zone 2  Power Consumption</th>\n",
       "      <th>Zone 3  Power Consumption</th>\n",
       "    </tr>\n",
       "  </thead>\n",
       "  <tbody>\n",
       "    <tr>\n",
       "      <th>0</th>\n",
       "      <td>2017-01-01 00:00:00</td>\n",
       "      <td>6.559</td>\n",
       "      <td>73.8</td>\n",
       "      <td>0.083</td>\n",
       "      <td>0.051</td>\n",
       "      <td>0.119</td>\n",
       "      <td>34055.69620</td>\n",
       "      <td>16128.87538</td>\n",
       "      <td>20240.96386</td>\n",
       "    </tr>\n",
       "    <tr>\n",
       "      <th>1</th>\n",
       "      <td>2017-01-01 00:10:00</td>\n",
       "      <td>6.414</td>\n",
       "      <td>74.5</td>\n",
       "      <td>0.083</td>\n",
       "      <td>0.070</td>\n",
       "      <td>0.085</td>\n",
       "      <td>29814.68354</td>\n",
       "      <td>19375.07599</td>\n",
       "      <td>20131.08434</td>\n",
       "    </tr>\n",
       "    <tr>\n",
       "      <th>2</th>\n",
       "      <td>2017-01-01 00:20:00</td>\n",
       "      <td>NaN</td>\n",
       "      <td>74.5</td>\n",
       "      <td>0.080</td>\n",
       "      <td>0.062</td>\n",
       "      <td>NaN</td>\n",
       "      <td>29128.10127</td>\n",
       "      <td>19006.68693</td>\n",
       "      <td>19668.43373</td>\n",
       "    </tr>\n",
       "    <tr>\n",
       "      <th>3</th>\n",
       "      <td>2017-01-01 00:30:00</td>\n",
       "      <td>6.121</td>\n",
       "      <td>75.0</td>\n",
       "      <td>0.083</td>\n",
       "      <td>NaN</td>\n",
       "      <td>0.096</td>\n",
       "      <td>28228.86076</td>\n",
       "      <td>18361.09422</td>\n",
       "      <td>18899.27711</td>\n",
       "    </tr>\n",
       "    <tr>\n",
       "      <th>4</th>\n",
       "      <td>2017-01-01 00:40:00</td>\n",
       "      <td>5.921</td>\n",
       "      <td>75.7</td>\n",
       "      <td>0.081</td>\n",
       "      <td>NaN</td>\n",
       "      <td>0.085</td>\n",
       "      <td>27335.69620</td>\n",
       "      <td>17872.34043</td>\n",
       "      <td>18442.40964</td>\n",
       "    </tr>\n",
       "    <tr>\n",
       "      <th>...</th>\n",
       "      <td>...</td>\n",
       "      <td>...</td>\n",
       "      <td>...</td>\n",
       "      <td>...</td>\n",
       "      <td>...</td>\n",
       "      <td>...</td>\n",
       "      <td>...</td>\n",
       "      <td>...</td>\n",
       "      <td>...</td>\n",
       "    </tr>\n",
       "    <tr>\n",
       "      <th>47591</th>\n",
       "      <td>2017-11-30 23:10:00</td>\n",
       "      <td>12.650</td>\n",
       "      <td>85.9</td>\n",
       "      <td>0.074</td>\n",
       "      <td>0.051</td>\n",
       "      <td>NaN</td>\n",
       "      <td>31347.69231</td>\n",
       "      <td>25705.78512</td>\n",
       "      <td>13301.20482</td>\n",
       "    </tr>\n",
       "    <tr>\n",
       "      <th>47592</th>\n",
       "      <td>2017-11-30 23:20:00</td>\n",
       "      <td>12.620</td>\n",
       "      <td>86.1</td>\n",
       "      <td>0.071</td>\n",
       "      <td>0.069</td>\n",
       "      <td>0.052</td>\n",
       "      <td>30603.07692</td>\n",
       "      <td>25088.42975</td>\n",
       "      <td>13081.44578</td>\n",
       "    </tr>\n",
       "    <tr>\n",
       "      <th>47593</th>\n",
       "      <td>2017-11-30 23:30:00</td>\n",
       "      <td>12.630</td>\n",
       "      <td>86.2</td>\n",
       "      <td>0.071</td>\n",
       "      <td>0.066</td>\n",
       "      <td>0.104</td>\n",
       "      <td>29889.23077</td>\n",
       "      <td>24571.48760</td>\n",
       "      <td>12740.24096</td>\n",
       "    </tr>\n",
       "    <tr>\n",
       "      <th>47594</th>\n",
       "      <td>2017-11-30 23:40:00</td>\n",
       "      <td>NaN</td>\n",
       "      <td>86.1</td>\n",
       "      <td>0.071</td>\n",
       "      <td>0.066</td>\n",
       "      <td>0.078</td>\n",
       "      <td>29249.23077</td>\n",
       "      <td>23942.97521</td>\n",
       "      <td>12480.00000</td>\n",
       "    </tr>\n",
       "    <tr>\n",
       "      <th>47595</th>\n",
       "      <td>2017-11-30 23:50:00</td>\n",
       "      <td>12.210</td>\n",
       "      <td>85.9</td>\n",
       "      <td>0.073</td>\n",
       "      <td>0.029</td>\n",
       "      <td>0.130</td>\n",
       "      <td>28584.61538</td>\n",
       "      <td>23444.62810</td>\n",
       "      <td>12260.24096</td>\n",
       "    </tr>\n",
       "  </tbody>\n",
       "</table>\n",
       "<p>47596 rows × 9 columns</p>\n",
       "</div>"
      ],
      "text/plain": [
       "                  DateTime  Temperature  Humidity  Wind Speed  \\\n",
       "0      2017-01-01 00:00:00        6.559      73.8       0.083   \n",
       "1      2017-01-01 00:10:00        6.414      74.5       0.083   \n",
       "2      2017-01-01 00:20:00          NaN      74.5       0.080   \n",
       "3      2017-01-01 00:30:00        6.121      75.0       0.083   \n",
       "4      2017-01-01 00:40:00        5.921      75.7       0.081   \n",
       "...                    ...          ...       ...         ...   \n",
       "47591  2017-11-30 23:10:00       12.650      85.9       0.074   \n",
       "47592  2017-11-30 23:20:00       12.620      86.1       0.071   \n",
       "47593  2017-11-30 23:30:00       12.630      86.2       0.071   \n",
       "47594  2017-11-30 23:40:00          NaN      86.1       0.071   \n",
       "47595  2017-11-30 23:50:00       12.210      85.9       0.073   \n",
       "\n",
       "       general diffuse flows  diffuse flows  Zone 1 Power Consumption  \\\n",
       "0                      0.051          0.119               34055.69620   \n",
       "1                      0.070          0.085               29814.68354   \n",
       "2                      0.062            NaN               29128.10127   \n",
       "3                        NaN          0.096               28228.86076   \n",
       "4                        NaN          0.085               27335.69620   \n",
       "...                      ...            ...                       ...   \n",
       "47591                  0.051            NaN               31347.69231   \n",
       "47592                  0.069          0.052               30603.07692   \n",
       "47593                  0.066          0.104               29889.23077   \n",
       "47594                  0.066          0.078               29249.23077   \n",
       "47595                  0.029          0.130               28584.61538   \n",
       "\n",
       "       Zone 2  Power Consumption  Zone 3  Power Consumption  \n",
       "0                    16128.87538                20240.96386  \n",
       "1                    19375.07599                20131.08434  \n",
       "2                    19006.68693                19668.43373  \n",
       "3                    18361.09422                18899.27711  \n",
       "4                    17872.34043                18442.40964  \n",
       "...                          ...                        ...  \n",
       "47591                25705.78512                13301.20482  \n",
       "47592                25088.42975                13081.44578  \n",
       "47593                24571.48760                12740.24096  \n",
       "47594                23942.97521                12480.00000  \n",
       "47595                23444.62810                12260.24096  \n",
       "\n",
       "[47596 rows x 9 columns]"
      ]
     },
     "execution_count": 4,
     "metadata": {},
     "output_type": "execute_result"
    }
   ],
   "source": [
    "df_train"
   ]
  },
  {
   "cell_type": "code",
   "execution_count": 5,
   "id": "0eddf5c2",
   "metadata": {
    "execution": {
     "iopub.execute_input": "2023-02-26T05:37:40.249708Z",
     "iopub.status.busy": "2023-02-26T05:37:40.249190Z",
     "iopub.status.idle": "2023-02-26T05:37:40.257377Z",
     "shell.execute_reply": "2023-02-26T05:37:40.256227Z"
    },
    "papermill": {
     "duration": 0.02612,
     "end_time": "2023-02-26T05:37:40.259852",
     "exception": false,
     "start_time": "2023-02-26T05:37:40.233732",
     "status": "completed"
    },
    "tags": []
   },
   "outputs": [
    {
     "data": {
      "text/plain": [
       "Index(['DateTime', 'Temperature', 'Humidity', 'Wind Speed',\n",
       "       'general diffuse flows', 'diffuse flows', 'Zone 1 Power Consumption',\n",
       "       'Zone 2  Power Consumption', 'Zone 3  Power Consumption'],\n",
       "      dtype='object')"
      ]
     },
     "execution_count": 5,
     "metadata": {},
     "output_type": "execute_result"
    }
   ],
   "source": [
    "df_train.columns\n"
   ]
  },
  {
   "cell_type": "code",
   "execution_count": 6,
   "id": "af989829",
   "metadata": {
    "execution": {
     "iopub.execute_input": "2023-02-26T05:37:40.289231Z",
     "iopub.status.busy": "2023-02-26T05:37:40.288799Z",
     "iopub.status.idle": "2023-02-26T05:37:40.303943Z",
     "shell.execute_reply": "2023-02-26T05:37:40.302566Z"
    },
    "papermill": {
     "duration": 0.033361,
     "end_time": "2023-02-26T05:37:40.306837",
     "exception": false,
     "start_time": "2023-02-26T05:37:40.273476",
     "status": "completed"
    },
    "tags": []
   },
   "outputs": [
    {
     "data": {
      "text/plain": [
       "<bound method NDFrame.describe of                   DateTime  Temperature  Humidity  Wind Speed  \\\n",
       "0      2017-01-01 00:00:00        6.559      73.8       0.083   \n",
       "1      2017-01-01 00:10:00        6.414      74.5       0.083   \n",
       "2      2017-01-01 00:20:00          NaN      74.5       0.080   \n",
       "3      2017-01-01 00:30:00        6.121      75.0       0.083   \n",
       "4      2017-01-01 00:40:00        5.921      75.7       0.081   \n",
       "...                    ...          ...       ...         ...   \n",
       "47591  2017-11-30 23:10:00       12.650      85.9       0.074   \n",
       "47592  2017-11-30 23:20:00       12.620      86.1       0.071   \n",
       "47593  2017-11-30 23:30:00       12.630      86.2       0.071   \n",
       "47594  2017-11-30 23:40:00          NaN      86.1       0.071   \n",
       "47595  2017-11-30 23:50:00       12.210      85.9       0.073   \n",
       "\n",
       "       general diffuse flows  diffuse flows  Zone 1 Power Consumption  \\\n",
       "0                      0.051          0.119               34055.69620   \n",
       "1                      0.070          0.085               29814.68354   \n",
       "2                      0.062            NaN               29128.10127   \n",
       "3                        NaN          0.096               28228.86076   \n",
       "4                        NaN          0.085               27335.69620   \n",
       "...                      ...            ...                       ...   \n",
       "47591                  0.051            NaN               31347.69231   \n",
       "47592                  0.069          0.052               30603.07692   \n",
       "47593                  0.066          0.104               29889.23077   \n",
       "47594                  0.066          0.078               29249.23077   \n",
       "47595                  0.029          0.130               28584.61538   \n",
       "\n",
       "       Zone 2  Power Consumption  Zone 3  Power Consumption  \n",
       "0                    16128.87538                20240.96386  \n",
       "1                    19375.07599                20131.08434  \n",
       "2                    19006.68693                19668.43373  \n",
       "3                    18361.09422                18899.27711  \n",
       "4                    17872.34043                18442.40964  \n",
       "...                          ...                        ...  \n",
       "47591                25705.78512                13301.20482  \n",
       "47592                25088.42975                13081.44578  \n",
       "47593                24571.48760                12740.24096  \n",
       "47594                23942.97521                12480.00000  \n",
       "47595                23444.62810                12260.24096  \n",
       "\n",
       "[47596 rows x 9 columns]>"
      ]
     },
     "execution_count": 6,
     "metadata": {},
     "output_type": "execute_result"
    }
   ],
   "source": [
    "df_train.describe"
   ]
  },
  {
   "cell_type": "code",
   "execution_count": 7,
   "id": "27a72d75",
   "metadata": {
    "execution": {
     "iopub.execute_input": "2023-02-26T05:37:40.337375Z",
     "iopub.status.busy": "2023-02-26T05:37:40.336945Z",
     "iopub.status.idle": "2023-02-26T05:37:40.345350Z",
     "shell.execute_reply": "2023-02-26T05:37:40.344008Z"
    },
    "papermill": {
     "duration": 0.027246,
     "end_time": "2023-02-26T05:37:40.348214",
     "exception": false,
     "start_time": "2023-02-26T05:37:40.320968",
     "status": "completed"
    },
    "tags": []
   },
   "outputs": [],
   "source": [
    "missing_values = df_train.isnull()"
   ]
  },
  {
   "cell_type": "code",
   "execution_count": 8,
   "id": "d7a15096",
   "metadata": {
    "execution": {
     "iopub.execute_input": "2023-02-26T05:37:40.379038Z",
     "iopub.status.busy": "2023-02-26T05:37:40.378567Z",
     "iopub.status.idle": "2023-02-26T05:37:40.385783Z",
     "shell.execute_reply": "2023-02-26T05:37:40.384239Z"
    },
    "papermill": {
     "duration": 0.026343,
     "end_time": "2023-02-26T05:37:40.388824",
     "exception": false,
     "start_time": "2023-02-26T05:37:40.362481",
     "status": "completed"
    },
    "tags": []
   },
   "outputs": [],
   "source": [
    "missing_values_count = missing_values.sum()"
   ]
  },
  {
   "cell_type": "code",
   "execution_count": 9,
   "id": "823950fe",
   "metadata": {
    "execution": {
     "iopub.execute_input": "2023-02-26T05:37:40.419889Z",
     "iopub.status.busy": "2023-02-26T05:37:40.419443Z",
     "iopub.status.idle": "2023-02-26T05:37:40.428914Z",
     "shell.execute_reply": "2023-02-26T05:37:40.427576Z"
    },
    "papermill": {
     "duration": 0.028694,
     "end_time": "2023-02-26T05:37:40.431883",
     "exception": false,
     "start_time": "2023-02-26T05:37:40.403189",
     "status": "completed"
    },
    "tags": []
   },
   "outputs": [
    {
     "data": {
      "text/plain": [
       "DateTime                        0\n",
       "Temperature                  5725\n",
       "Humidity                     3611\n",
       "Wind Speed                   4412\n",
       "general diffuse flows        5653\n",
       "diffuse flows                4048\n",
       "Zone 1 Power Consumption        0\n",
       "Zone 2  Power Consumption       0\n",
       "Zone 3  Power Consumption       0\n",
       "dtype: int64"
      ]
     },
     "execution_count": 9,
     "metadata": {},
     "output_type": "execute_result"
    }
   ],
   "source": [
    "missing_values_count"
   ]
  },
  {
   "cell_type": "code",
   "execution_count": 10,
   "id": "128c9e06",
   "metadata": {
    "execution": {
     "iopub.execute_input": "2023-02-26T05:37:40.462472Z",
     "iopub.status.busy": "2023-02-26T05:37:40.462025Z",
     "iopub.status.idle": "2023-02-26T05:37:40.478189Z",
     "shell.execute_reply": "2023-02-26T05:37:40.476786Z"
    },
    "papermill": {
     "duration": 0.035077,
     "end_time": "2023-02-26T05:37:40.481153",
     "exception": false,
     "start_time": "2023-02-26T05:37:40.446076",
     "status": "completed"
    },
    "tags": []
   },
   "outputs": [],
   "source": [
    "df_train.fillna(method='ffill', inplace=True)"
   ]
  },
  {
   "cell_type": "code",
   "execution_count": 11,
   "id": "1916b6ad",
   "metadata": {
    "execution": {
     "iopub.execute_input": "2023-02-26T05:37:40.513076Z",
     "iopub.status.busy": "2023-02-26T05:37:40.512596Z",
     "iopub.status.idle": "2023-02-26T05:37:40.522862Z",
     "shell.execute_reply": "2023-02-26T05:37:40.521107Z"
    },
    "papermill": {
     "duration": 0.030227,
     "end_time": "2023-02-26T05:37:40.525516",
     "exception": false,
     "start_time": "2023-02-26T05:37:40.495289",
     "status": "completed"
    },
    "tags": []
   },
   "outputs": [
    {
     "data": {
      "text/plain": [
       "DateTime                      object\n",
       "Temperature                  float64\n",
       "Humidity                     float64\n",
       "Wind Speed                   float64\n",
       "general diffuse flows        float64\n",
       "diffuse flows                float64\n",
       "Zone 1 Power Consumption     float64\n",
       "Zone 2  Power Consumption    float64\n",
       "Zone 3  Power Consumption    float64\n",
       "dtype: object"
      ]
     },
     "execution_count": 11,
     "metadata": {},
     "output_type": "execute_result"
    }
   ],
   "source": [
    "df_train.dtypes"
   ]
  },
  {
   "cell_type": "code",
   "execution_count": 12,
   "id": "646418c1",
   "metadata": {
    "execution": {
     "iopub.execute_input": "2023-02-26T05:37:40.557039Z",
     "iopub.status.busy": "2023-02-26T05:37:40.556549Z",
     "iopub.status.idle": "2023-02-26T05:37:40.562559Z",
     "shell.execute_reply": "2023-02-26T05:37:40.560940Z"
    },
    "papermill": {
     "duration": 0.025641,
     "end_time": "2023-02-26T05:37:40.565759",
     "exception": false,
     "start_time": "2023-02-26T05:37:40.540118",
     "status": "completed"
    },
    "tags": []
   },
   "outputs": [],
   "source": [
    "col=list(df_train.columns)"
   ]
  },
  {
   "cell_type": "code",
   "execution_count": 13,
   "id": "30563106",
   "metadata": {
    "execution": {
     "iopub.execute_input": "2023-02-26T05:37:40.596429Z",
     "iopub.status.busy": "2023-02-26T05:37:40.595947Z",
     "iopub.status.idle": "2023-02-26T05:37:40.604164Z",
     "shell.execute_reply": "2023-02-26T05:37:40.602693Z"
    },
    "papermill": {
     "duration": 0.02668,
     "end_time": "2023-02-26T05:37:40.606987",
     "exception": false,
     "start_time": "2023-02-26T05:37:40.580307",
     "status": "completed"
    },
    "tags": []
   },
   "outputs": [
    {
     "data": {
      "text/plain": [
       "['DateTime',\n",
       " 'Temperature',\n",
       " 'Humidity',\n",
       " 'Wind Speed',\n",
       " 'general diffuse flows',\n",
       " 'diffuse flows',\n",
       " 'Zone 1 Power Consumption',\n",
       " 'Zone 2  Power Consumption',\n",
       " 'Zone 3  Power Consumption']"
      ]
     },
     "execution_count": 13,
     "metadata": {},
     "output_type": "execute_result"
    }
   ],
   "source": [
    "col"
   ]
  },
  {
   "cell_type": "code",
   "execution_count": 14,
   "id": "7989bb20",
   "metadata": {
    "execution": {
     "iopub.execute_input": "2023-02-26T05:37:40.638111Z",
     "iopub.status.busy": "2023-02-26T05:37:40.637667Z",
     "iopub.status.idle": "2023-02-26T05:37:41.842828Z",
     "shell.execute_reply": "2023-02-26T05:37:41.840717Z"
    },
    "papermill": {
     "duration": 1.224885,
     "end_time": "2023-02-26T05:37:41.846271",
     "exception": false,
     "start_time": "2023-02-26T05:37:40.621386",
     "status": "completed"
    },
    "tags": []
   },
   "outputs": [
    {
     "name": "stdout",
     "output_type": "stream",
     "text": [
      "              DateTime  Temperature  Humidity  Wind Speed  \\\n",
      "0  2017-01-01 00:00:00    -2.222861  0.358089   -0.853606   \n",
      "1  2017-01-01 00:10:00    -2.248151  0.402658   -0.853606   \n",
      "2  2017-01-01 00:20:00    -2.248151  0.402658   -0.854868   \n",
      "3  2017-01-01 00:30:00    -2.299253  0.434494   -0.853606   \n",
      "4  2017-01-01 00:40:00    -2.334135  0.479064   -0.854447   \n",
      "\n",
      "   general diffuse flows  diffuse flows  Zone 1 Power Consumption  \\\n",
      "0              -0.702507      -0.614268               34055.69620   \n",
      "1              -0.702437      -0.614534               29814.68354   \n",
      "2              -0.702466      -0.614534               29128.10127   \n",
      "3              -0.702466      -0.614448               28228.86076   \n",
      "4              -0.702466      -0.614534               27335.69620   \n",
      "\n",
      "   Zone 2  Power Consumption  Zone 3  Power Consumption  \n",
      "0                16128.87538                20240.96386  \n",
      "1                19375.07599                20131.08434  \n",
      "2                19006.68693                19668.43373  \n",
      "3                18361.09422                18899.27711  \n",
      "4                17872.34043                18442.40964  \n"
     ]
    }
   ],
   "source": [
    "from sklearn.preprocessing import StandardScaler\n",
    "cols_to_normalize = col[1:6]\n",
    "\n",
    "# Create the scaler object\n",
    "scaler = StandardScaler()\n",
    "\n",
    "# Fit and transform the selected columns\n",
    "normalized_data = scaler.fit_transform(df_train[cols_to_normalize])\n",
    "\n",
    "# Replace the original values with the normalized values\n",
    "df_train[cols_to_normalize] = normalized_data\n",
    "\n",
    "# Print the first five rows of the normalized data\n",
    "print(df_train.head())"
   ]
  },
  {
   "cell_type": "code",
   "execution_count": 15,
   "id": "d2566670",
   "metadata": {
    "execution": {
     "iopub.execute_input": "2023-02-26T05:37:41.878339Z",
     "iopub.status.busy": "2023-02-26T05:37:41.877584Z",
     "iopub.status.idle": "2023-02-26T05:37:41.913320Z",
     "shell.execute_reply": "2023-02-26T05:37:41.911383Z"
    },
    "papermill": {
     "duration": 0.055382,
     "end_time": "2023-02-26T05:37:41.916238",
     "exception": false,
     "start_time": "2023-02-26T05:37:41.860856",
     "status": "completed"
    },
    "tags": []
   },
   "outputs": [
    {
     "name": "stdout",
     "output_type": "stream",
     "text": [
      "DateTime                     47596\n",
      "Temperature                   3171\n",
      "Humidity                      4324\n",
      "Wind Speed                     508\n",
      "general diffuse flows         9622\n",
      "diffuse flows                 9659\n",
      "Zone 1 Power Consumption     25273\n",
      "Zone 2  Power Consumption    26661\n",
      "Zone 3  Power Consumption    21334\n",
      "dtype: int64\n"
     ]
    }
   ],
   "source": [
    "unique_values = df_train.nunique()\n",
    "\n",
    "# Print the unique values\n",
    "print(unique_values)"
   ]
  },
  {
   "cell_type": "code",
   "execution_count": 16,
   "id": "fa4ef04e",
   "metadata": {
    "execution": {
     "iopub.execute_input": "2023-02-26T05:37:41.949060Z",
     "iopub.status.busy": "2023-02-26T05:37:41.947496Z",
     "iopub.status.idle": "2023-02-26T05:37:41.966199Z",
     "shell.execute_reply": "2023-02-26T05:37:41.964720Z"
    },
    "papermill": {
     "duration": 0.037487,
     "end_time": "2023-02-26T05:37:41.969040",
     "exception": false,
     "start_time": "2023-02-26T05:37:41.931553",
     "status": "completed"
    },
    "tags": []
   },
   "outputs": [
    {
     "data": {
      "text/html": [
       "<div>\n",
       "<style scoped>\n",
       "    .dataframe tbody tr th:only-of-type {\n",
       "        vertical-align: middle;\n",
       "    }\n",
       "\n",
       "    .dataframe tbody tr th {\n",
       "        vertical-align: top;\n",
       "    }\n",
       "\n",
       "    .dataframe thead th {\n",
       "        text-align: right;\n",
       "    }\n",
       "</style>\n",
       "<table border=\"1\" class=\"dataframe\">\n",
       "  <thead>\n",
       "    <tr style=\"text-align: right;\">\n",
       "      <th></th>\n",
       "      <th>DateTime</th>\n",
       "      <th>Temperature</th>\n",
       "      <th>Humidity</th>\n",
       "      <th>Wind Speed</th>\n",
       "      <th>general diffuse flows</th>\n",
       "      <th>diffuse flows</th>\n",
       "      <th>Zone 1 Power Consumption</th>\n",
       "      <th>Zone 2  Power Consumption</th>\n",
       "      <th>Zone 3  Power Consumption</th>\n",
       "    </tr>\n",
       "  </thead>\n",
       "  <tbody>\n",
       "    <tr>\n",
       "      <th>0</th>\n",
       "      <td>2017-01-01 00:00:00</td>\n",
       "      <td>-2.222861</td>\n",
       "      <td>0.358089</td>\n",
       "      <td>-0.853606</td>\n",
       "      <td>-0.702507</td>\n",
       "      <td>-0.614268</td>\n",
       "      <td>34055.69620</td>\n",
       "      <td>16128.87538</td>\n",
       "      <td>20240.96386</td>\n",
       "    </tr>\n",
       "    <tr>\n",
       "      <th>1</th>\n",
       "      <td>2017-01-01 00:10:00</td>\n",
       "      <td>-2.248151</td>\n",
       "      <td>0.402658</td>\n",
       "      <td>-0.853606</td>\n",
       "      <td>-0.702437</td>\n",
       "      <td>-0.614534</td>\n",
       "      <td>29814.68354</td>\n",
       "      <td>19375.07599</td>\n",
       "      <td>20131.08434</td>\n",
       "    </tr>\n",
       "    <tr>\n",
       "      <th>2</th>\n",
       "      <td>2017-01-01 00:20:00</td>\n",
       "      <td>-2.248151</td>\n",
       "      <td>0.402658</td>\n",
       "      <td>-0.854868</td>\n",
       "      <td>-0.702466</td>\n",
       "      <td>-0.614534</td>\n",
       "      <td>29128.10127</td>\n",
       "      <td>19006.68693</td>\n",
       "      <td>19668.43373</td>\n",
       "    </tr>\n",
       "    <tr>\n",
       "      <th>3</th>\n",
       "      <td>2017-01-01 00:30:00</td>\n",
       "      <td>-2.299253</td>\n",
       "      <td>0.434494</td>\n",
       "      <td>-0.853606</td>\n",
       "      <td>-0.702466</td>\n",
       "      <td>-0.614448</td>\n",
       "      <td>28228.86076</td>\n",
       "      <td>18361.09422</td>\n",
       "      <td>18899.27711</td>\n",
       "    </tr>\n",
       "    <tr>\n",
       "      <th>4</th>\n",
       "      <td>2017-01-01 00:40:00</td>\n",
       "      <td>-2.334135</td>\n",
       "      <td>0.479064</td>\n",
       "      <td>-0.854447</td>\n",
       "      <td>-0.702466</td>\n",
       "      <td>-0.614534</td>\n",
       "      <td>27335.69620</td>\n",
       "      <td>17872.34043</td>\n",
       "      <td>18442.40964</td>\n",
       "    </tr>\n",
       "  </tbody>\n",
       "</table>\n",
       "</div>"
      ],
      "text/plain": [
       "              DateTime  Temperature  Humidity  Wind Speed  \\\n",
       "0  2017-01-01 00:00:00    -2.222861  0.358089   -0.853606   \n",
       "1  2017-01-01 00:10:00    -2.248151  0.402658   -0.853606   \n",
       "2  2017-01-01 00:20:00    -2.248151  0.402658   -0.854868   \n",
       "3  2017-01-01 00:30:00    -2.299253  0.434494   -0.853606   \n",
       "4  2017-01-01 00:40:00    -2.334135  0.479064   -0.854447   \n",
       "\n",
       "   general diffuse flows  diffuse flows  Zone 1 Power Consumption  \\\n",
       "0              -0.702507      -0.614268               34055.69620   \n",
       "1              -0.702437      -0.614534               29814.68354   \n",
       "2              -0.702466      -0.614534               29128.10127   \n",
       "3              -0.702466      -0.614448               28228.86076   \n",
       "4              -0.702466      -0.614534               27335.69620   \n",
       "\n",
       "   Zone 2  Power Consumption  Zone 3  Power Consumption  \n",
       "0                16128.87538                20240.96386  \n",
       "1                19375.07599                20131.08434  \n",
       "2                19006.68693                19668.43373  \n",
       "3                18361.09422                18899.27711  \n",
       "4                17872.34043                18442.40964  "
      ]
     },
     "execution_count": 16,
     "metadata": {},
     "output_type": "execute_result"
    }
   ],
   "source": [
    "df_train.head()"
   ]
  },
  {
   "cell_type": "code",
   "execution_count": 17,
   "id": "74ece75f",
   "metadata": {
    "execution": {
     "iopub.execute_input": "2023-02-26T05:37:42.000513Z",
     "iopub.status.busy": "2023-02-26T05:37:42.000091Z",
     "iopub.status.idle": "2023-02-26T05:37:42.617146Z",
     "shell.execute_reply": "2023-02-26T05:37:42.615619Z"
    },
    "papermill": {
     "duration": 0.63633,
     "end_time": "2023-02-26T05:37:42.620122",
     "exception": false,
     "start_time": "2023-02-26T05:37:41.983792",
     "status": "completed"
    },
    "tags": []
   },
   "outputs": [],
   "source": [
    "df_train[['Date', 'Time']] = df_train['DateTime'].str.split(' ', expand=True)\n",
    "\n",
    "# Extract Year, Month, and Day from Date column\n",
    "df_train[['Year', 'Month', 'Day']] = df_train['Date'].str.split('-', expand=True)\n",
    "\n",
    "# Combine Hour, Minute, and Second into Time column\n",
    "df_train['Time'] = df_train['Time'].str.split(':').apply(lambda x: x[0] + ':' + x[1])\n",
    "\n",
    "# Drop original DateTime and Date columns\n",
    "df_train= df_train.drop(columns=['DateTime', 'Date'])\n",
    "# Split Time column into separate Hour and Minute columns\n",
    "df_train[['Hour', 'Minute']] = df_train['Time'].str.split(':', expand=True)\n",
    "\n",
    "# Convert Hour and Minute columns to integers\n",
    "df_train['Hour'] = df_train['Hour'].astype(int)\n",
    "df_train['Minute'] =df_train['Minute'].astype(int)\n",
    "\n",
    "# Calculate total number of minutes\n",
    "df_train['TotalMinutes'] = (df_train['Hour'] * 60) + df_train['Minute']\n",
    "\n",
    "# Drop original Time, Hour, and Minute columns\n",
    "df_train = df_train.drop(columns=['Time', 'Hour', 'Minute'])\n"
   ]
  },
  {
   "cell_type": "code",
   "execution_count": 18,
   "id": "4f6d6990",
   "metadata": {
    "execution": {
     "iopub.execute_input": "2023-02-26T05:37:42.654962Z",
     "iopub.status.busy": "2023-02-26T05:37:42.653000Z",
     "iopub.status.idle": "2023-02-26T05:37:42.678355Z",
     "shell.execute_reply": "2023-02-26T05:37:42.676878Z"
    },
    "papermill": {
     "duration": 0.045846,
     "end_time": "2023-02-26T05:37:42.681268",
     "exception": false,
     "start_time": "2023-02-26T05:37:42.635422",
     "status": "completed"
    },
    "tags": []
   },
   "outputs": [
    {
     "data": {
      "text/html": [
       "<div>\n",
       "<style scoped>\n",
       "    .dataframe tbody tr th:only-of-type {\n",
       "        vertical-align: middle;\n",
       "    }\n",
       "\n",
       "    .dataframe tbody tr th {\n",
       "        vertical-align: top;\n",
       "    }\n",
       "\n",
       "    .dataframe thead th {\n",
       "        text-align: right;\n",
       "    }\n",
       "</style>\n",
       "<table border=\"1\" class=\"dataframe\">\n",
       "  <thead>\n",
       "    <tr style=\"text-align: right;\">\n",
       "      <th></th>\n",
       "      <th>Temperature</th>\n",
       "      <th>Humidity</th>\n",
       "      <th>Wind Speed</th>\n",
       "      <th>general diffuse flows</th>\n",
       "      <th>diffuse flows</th>\n",
       "      <th>Zone 1 Power Consumption</th>\n",
       "      <th>Zone 2  Power Consumption</th>\n",
       "      <th>Zone 3  Power Consumption</th>\n",
       "      <th>Year</th>\n",
       "      <th>Month</th>\n",
       "      <th>Day</th>\n",
       "      <th>TotalMinutes</th>\n",
       "    </tr>\n",
       "  </thead>\n",
       "  <tbody>\n",
       "    <tr>\n",
       "      <th>0</th>\n",
       "      <td>-2.222861</td>\n",
       "      <td>0.358089</td>\n",
       "      <td>-0.853606</td>\n",
       "      <td>-0.702507</td>\n",
       "      <td>-0.614268</td>\n",
       "      <td>34055.69620</td>\n",
       "      <td>16128.87538</td>\n",
       "      <td>20240.96386</td>\n",
       "      <td>2017</td>\n",
       "      <td>01</td>\n",
       "      <td>01</td>\n",
       "      <td>0</td>\n",
       "    </tr>\n",
       "    <tr>\n",
       "      <th>1</th>\n",
       "      <td>-2.248151</td>\n",
       "      <td>0.402658</td>\n",
       "      <td>-0.853606</td>\n",
       "      <td>-0.702437</td>\n",
       "      <td>-0.614534</td>\n",
       "      <td>29814.68354</td>\n",
       "      <td>19375.07599</td>\n",
       "      <td>20131.08434</td>\n",
       "      <td>2017</td>\n",
       "      <td>01</td>\n",
       "      <td>01</td>\n",
       "      <td>10</td>\n",
       "    </tr>\n",
       "    <tr>\n",
       "      <th>2</th>\n",
       "      <td>-2.248151</td>\n",
       "      <td>0.402658</td>\n",
       "      <td>-0.854868</td>\n",
       "      <td>-0.702466</td>\n",
       "      <td>-0.614534</td>\n",
       "      <td>29128.10127</td>\n",
       "      <td>19006.68693</td>\n",
       "      <td>19668.43373</td>\n",
       "      <td>2017</td>\n",
       "      <td>01</td>\n",
       "      <td>01</td>\n",
       "      <td>20</td>\n",
       "    </tr>\n",
       "    <tr>\n",
       "      <th>3</th>\n",
       "      <td>-2.299253</td>\n",
       "      <td>0.434494</td>\n",
       "      <td>-0.853606</td>\n",
       "      <td>-0.702466</td>\n",
       "      <td>-0.614448</td>\n",
       "      <td>28228.86076</td>\n",
       "      <td>18361.09422</td>\n",
       "      <td>18899.27711</td>\n",
       "      <td>2017</td>\n",
       "      <td>01</td>\n",
       "      <td>01</td>\n",
       "      <td>30</td>\n",
       "    </tr>\n",
       "    <tr>\n",
       "      <th>4</th>\n",
       "      <td>-2.334135</td>\n",
       "      <td>0.479064</td>\n",
       "      <td>-0.854447</td>\n",
       "      <td>-0.702466</td>\n",
       "      <td>-0.614534</td>\n",
       "      <td>27335.69620</td>\n",
       "      <td>17872.34043</td>\n",
       "      <td>18442.40964</td>\n",
       "      <td>2017</td>\n",
       "      <td>01</td>\n",
       "      <td>01</td>\n",
       "      <td>40</td>\n",
       "    </tr>\n",
       "    <tr>\n",
       "      <th>...</th>\n",
       "      <td>...</td>\n",
       "      <td>...</td>\n",
       "      <td>...</td>\n",
       "      <td>...</td>\n",
       "      <td>...</td>\n",
       "      <td>...</td>\n",
       "      <td>...</td>\n",
       "      <td>...</td>\n",
       "      <td>...</td>\n",
       "      <td>...</td>\n",
       "      <td>...</td>\n",
       "      <td>...</td>\n",
       "    </tr>\n",
       "    <tr>\n",
       "      <th>47591</th>\n",
       "      <td>-1.160531</td>\n",
       "      <td>1.128508</td>\n",
       "      <td>-0.857391</td>\n",
       "      <td>-0.702507</td>\n",
       "      <td>-0.614385</td>\n",
       "      <td>31347.69231</td>\n",
       "      <td>25705.78512</td>\n",
       "      <td>13301.20482</td>\n",
       "      <td>2017</td>\n",
       "      <td>11</td>\n",
       "      <td>30</td>\n",
       "      <td>1390</td>\n",
       "    </tr>\n",
       "    <tr>\n",
       "      <th>47592</th>\n",
       "      <td>-1.165763</td>\n",
       "      <td>1.141242</td>\n",
       "      <td>-0.858652</td>\n",
       "      <td>-0.702440</td>\n",
       "      <td>-0.614792</td>\n",
       "      <td>30603.07692</td>\n",
       "      <td>25088.42975</td>\n",
       "      <td>13081.44578</td>\n",
       "      <td>2017</td>\n",
       "      <td>11</td>\n",
       "      <td>30</td>\n",
       "      <td>1400</td>\n",
       "    </tr>\n",
       "    <tr>\n",
       "      <th>47593</th>\n",
       "      <td>-1.164019</td>\n",
       "      <td>1.147609</td>\n",
       "      <td>-0.858652</td>\n",
       "      <td>-0.702451</td>\n",
       "      <td>-0.614385</td>\n",
       "      <td>29889.23077</td>\n",
       "      <td>24571.48760</td>\n",
       "      <td>12740.24096</td>\n",
       "      <td>2017</td>\n",
       "      <td>11</td>\n",
       "      <td>30</td>\n",
       "      <td>1410</td>\n",
       "    </tr>\n",
       "    <tr>\n",
       "      <th>47594</th>\n",
       "      <td>-1.164019</td>\n",
       "      <td>1.141242</td>\n",
       "      <td>-0.858652</td>\n",
       "      <td>-0.702451</td>\n",
       "      <td>-0.614589</td>\n",
       "      <td>29249.23077</td>\n",
       "      <td>23942.97521</td>\n",
       "      <td>12480.00000</td>\n",
       "      <td>2017</td>\n",
       "      <td>11</td>\n",
       "      <td>30</td>\n",
       "      <td>1420</td>\n",
       "    </tr>\n",
       "    <tr>\n",
       "      <th>47595</th>\n",
       "      <td>-1.237271</td>\n",
       "      <td>1.128508</td>\n",
       "      <td>-0.857811</td>\n",
       "      <td>-0.702588</td>\n",
       "      <td>-0.614182</td>\n",
       "      <td>28584.61538</td>\n",
       "      <td>23444.62810</td>\n",
       "      <td>12260.24096</td>\n",
       "      <td>2017</td>\n",
       "      <td>11</td>\n",
       "      <td>30</td>\n",
       "      <td>1430</td>\n",
       "    </tr>\n",
       "  </tbody>\n",
       "</table>\n",
       "<p>47596 rows × 12 columns</p>\n",
       "</div>"
      ],
      "text/plain": [
       "       Temperature  Humidity  Wind Speed  general diffuse flows  \\\n",
       "0        -2.222861  0.358089   -0.853606              -0.702507   \n",
       "1        -2.248151  0.402658   -0.853606              -0.702437   \n",
       "2        -2.248151  0.402658   -0.854868              -0.702466   \n",
       "3        -2.299253  0.434494   -0.853606              -0.702466   \n",
       "4        -2.334135  0.479064   -0.854447              -0.702466   \n",
       "...            ...       ...         ...                    ...   \n",
       "47591    -1.160531  1.128508   -0.857391              -0.702507   \n",
       "47592    -1.165763  1.141242   -0.858652              -0.702440   \n",
       "47593    -1.164019  1.147609   -0.858652              -0.702451   \n",
       "47594    -1.164019  1.141242   -0.858652              -0.702451   \n",
       "47595    -1.237271  1.128508   -0.857811              -0.702588   \n",
       "\n",
       "       diffuse flows  Zone 1 Power Consumption  Zone 2  Power Consumption  \\\n",
       "0          -0.614268               34055.69620                16128.87538   \n",
       "1          -0.614534               29814.68354                19375.07599   \n",
       "2          -0.614534               29128.10127                19006.68693   \n",
       "3          -0.614448               28228.86076                18361.09422   \n",
       "4          -0.614534               27335.69620                17872.34043   \n",
       "...              ...                       ...                        ...   \n",
       "47591      -0.614385               31347.69231                25705.78512   \n",
       "47592      -0.614792               30603.07692                25088.42975   \n",
       "47593      -0.614385               29889.23077                24571.48760   \n",
       "47594      -0.614589               29249.23077                23942.97521   \n",
       "47595      -0.614182               28584.61538                23444.62810   \n",
       "\n",
       "       Zone 3  Power Consumption  Year Month Day  TotalMinutes  \n",
       "0                    20240.96386  2017    01  01             0  \n",
       "1                    20131.08434  2017    01  01            10  \n",
       "2                    19668.43373  2017    01  01            20  \n",
       "3                    18899.27711  2017    01  01            30  \n",
       "4                    18442.40964  2017    01  01            40  \n",
       "...                          ...   ...   ...  ..           ...  \n",
       "47591                13301.20482  2017    11  30          1390  \n",
       "47592                13081.44578  2017    11  30          1400  \n",
       "47593                12740.24096  2017    11  30          1410  \n",
       "47594                12480.00000  2017    11  30          1420  \n",
       "47595                12260.24096  2017    11  30          1430  \n",
       "\n",
       "[47596 rows x 12 columns]"
      ]
     },
     "execution_count": 18,
     "metadata": {},
     "output_type": "execute_result"
    }
   ],
   "source": [
    "df_train"
   ]
  },
  {
   "cell_type": "code",
   "execution_count": 19,
   "id": "acc53645",
   "metadata": {
    "execution": {
     "iopub.execute_input": "2023-02-26T05:37:42.714250Z",
     "iopub.status.busy": "2023-02-26T05:37:42.713797Z",
     "iopub.status.idle": "2023-02-26T05:37:42.721683Z",
     "shell.execute_reply": "2023-02-26T05:37:42.720389Z"
    },
    "papermill": {
     "duration": 0.028068,
     "end_time": "2023-02-26T05:37:42.724340",
     "exception": false,
     "start_time": "2023-02-26T05:37:42.696272",
     "status": "completed"
    },
    "tags": []
   },
   "outputs": [
    {
     "data": {
      "text/plain": [
       "Index(['Temperature', 'Humidity', 'Wind Speed', 'general diffuse flows',\n",
       "       'diffuse flows', 'Zone 1 Power Consumption',\n",
       "       'Zone 2  Power Consumption', 'Zone 3  Power Consumption', 'Year',\n",
       "       'Month', 'Day', 'TotalMinutes'],\n",
       "      dtype='object')"
      ]
     },
     "execution_count": 19,
     "metadata": {},
     "output_type": "execute_result"
    }
   ],
   "source": [
    "df_train.columns"
   ]
  },
  {
   "cell_type": "code",
   "execution_count": 20,
   "id": "2e2b9ef1",
   "metadata": {
    "execution": {
     "iopub.execute_input": "2023-02-26T05:37:42.756727Z",
     "iopub.status.busy": "2023-02-26T05:37:42.756256Z",
     "iopub.status.idle": "2023-02-26T05:37:42.762105Z",
     "shell.execute_reply": "2023-02-26T05:37:42.760540Z"
    },
    "papermill": {
     "duration": 0.02514,
     "end_time": "2023-02-26T05:37:42.764621",
     "exception": false,
     "start_time": "2023-02-26T05:37:42.739481",
     "status": "completed"
    },
    "tags": []
   },
   "outputs": [],
   "source": [
    "l1=list(df_train.columns)"
   ]
  },
  {
   "cell_type": "code",
   "execution_count": 21,
   "id": "3fd8ad46",
   "metadata": {
    "execution": {
     "iopub.execute_input": "2023-02-26T05:37:42.797826Z",
     "iopub.status.busy": "2023-02-26T05:37:42.796928Z",
     "iopub.status.idle": "2023-02-26T05:37:42.803792Z",
     "shell.execute_reply": "2023-02-26T05:37:42.802865Z"
    },
    "papermill": {
     "duration": 0.026148,
     "end_time": "2023-02-26T05:37:42.806295",
     "exception": false,
     "start_time": "2023-02-26T05:37:42.780147",
     "status": "completed"
    },
    "tags": []
   },
   "outputs": [
    {
     "data": {
      "text/plain": [
       "Index(['Temperature', 'Humidity', 'Wind Speed', 'general diffuse flows',\n",
       "       'diffuse flows', 'Zone 1 Power Consumption',\n",
       "       'Zone 2  Power Consumption', 'Zone 3  Power Consumption', 'Year',\n",
       "       'Month', 'Day', 'TotalMinutes'],\n",
       "      dtype='object')"
      ]
     },
     "execution_count": 21,
     "metadata": {},
     "output_type": "execute_result"
    }
   ],
   "source": [
    "df_train.columns"
   ]
  },
  {
   "cell_type": "code",
   "execution_count": 22,
   "id": "8e60cdb9",
   "metadata": {
    "execution": {
     "iopub.execute_input": "2023-02-26T05:37:42.840624Z",
     "iopub.status.busy": "2023-02-26T05:37:42.839740Z",
     "iopub.status.idle": "2023-02-26T05:37:42.844792Z",
     "shell.execute_reply": "2023-02-26T05:37:42.843706Z"
    },
    "papermill": {
     "duration": 0.025514,
     "end_time": "2023-02-26T05:37:42.847498",
     "exception": false,
     "start_time": "2023-02-26T05:37:42.821984",
     "status": "completed"
    },
    "tags": []
   },
   "outputs": [],
   "source": [
    "l1=l1[8:]"
   ]
  },
  {
   "cell_type": "code",
   "execution_count": 23,
   "id": "3a7932d4",
   "metadata": {
    "execution": {
     "iopub.execute_input": "2023-02-26T05:37:42.880472Z",
     "iopub.status.busy": "2023-02-26T05:37:42.879667Z",
     "iopub.status.idle": "2023-02-26T05:37:42.888524Z",
     "shell.execute_reply": "2023-02-26T05:37:42.887158Z"
    },
    "papermill": {
     "duration": 0.028736,
     "end_time": "2023-02-26T05:37:42.891634",
     "exception": false,
     "start_time": "2023-02-26T05:37:42.862898",
     "status": "completed"
    },
    "tags": []
   },
   "outputs": [
    {
     "data": {
      "text/plain": [
       "Temperature                  float64\n",
       "Humidity                     float64\n",
       "Wind Speed                   float64\n",
       "general diffuse flows        float64\n",
       "diffuse flows                float64\n",
       "Zone 1 Power Consumption     float64\n",
       "Zone 2  Power Consumption    float64\n",
       "Zone 3  Power Consumption    float64\n",
       "Year                          object\n",
       "Month                         object\n",
       "Day                           object\n",
       "TotalMinutes                   int64\n",
       "dtype: object"
      ]
     },
     "execution_count": 23,
     "metadata": {},
     "output_type": "execute_result"
    }
   ],
   "source": [
    "df_train.dtypes"
   ]
  },
  {
   "cell_type": "code",
   "execution_count": 24,
   "id": "1d93ddb1",
   "metadata": {
    "execution": {
     "iopub.execute_input": "2023-02-26T05:37:42.926221Z",
     "iopub.status.busy": "2023-02-26T05:37:42.924885Z",
     "iopub.status.idle": "2023-02-26T05:37:42.957114Z",
     "shell.execute_reply": "2023-02-26T05:37:42.955806Z"
    },
    "papermill": {
     "duration": 0.052528,
     "end_time": "2023-02-26T05:37:42.960262",
     "exception": false,
     "start_time": "2023-02-26T05:37:42.907734",
     "status": "completed"
    },
    "tags": []
   },
   "outputs": [],
   "source": [
    "df_train['Year']=df_train['Year'].astype('int64')\n",
    "df_train['Month']=df_train['Month'].astype('int64')\n",
    "df_train['Day']=df_train['Day'].astype('int64')"
   ]
  },
  {
   "cell_type": "code",
   "execution_count": 25,
   "id": "5b1d5ee9",
   "metadata": {
    "execution": {
     "iopub.execute_input": "2023-02-26T05:37:42.993052Z",
     "iopub.status.busy": "2023-02-26T05:37:42.992497Z",
     "iopub.status.idle": "2023-02-26T05:37:43.000174Z",
     "shell.execute_reply": "2023-02-26T05:37:42.998908Z"
    },
    "papermill": {
     "duration": 0.02783,
     "end_time": "2023-02-26T05:37:43.003358",
     "exception": false,
     "start_time": "2023-02-26T05:37:42.975528",
     "status": "completed"
    },
    "tags": []
   },
   "outputs": [
    {
     "data": {
      "text/plain": [
       "['Year', 'Month', 'Day', 'TotalMinutes']"
      ]
     },
     "execution_count": 25,
     "metadata": {},
     "output_type": "execute_result"
    }
   ],
   "source": [
    "l1"
   ]
  },
  {
   "cell_type": "code",
   "execution_count": 26,
   "id": "e029ee61",
   "metadata": {
    "execution": {
     "iopub.execute_input": "2023-02-26T05:37:43.038197Z",
     "iopub.status.busy": "2023-02-26T05:37:43.037740Z",
     "iopub.status.idle": "2023-02-26T05:37:43.054387Z",
     "shell.execute_reply": "2023-02-26T05:37:43.052976Z"
    },
    "papermill": {
     "duration": 0.037132,
     "end_time": "2023-02-26T05:37:43.057464",
     "exception": false,
     "start_time": "2023-02-26T05:37:43.020332",
     "status": "completed"
    },
    "tags": []
   },
   "outputs": [],
   "source": [
    "cols_to_normalize=l1\n",
    "normalized_data = scaler.fit_transform(df_train[cols_to_normalize])\n",
    "\n",
    "# Replace the original values with the normalized values\n",
    "df_train[cols_to_normalize] = normalized_data"
   ]
  },
  {
   "cell_type": "code",
   "execution_count": 27,
   "id": "85c49a9f",
   "metadata": {
    "execution": {
     "iopub.execute_input": "2023-02-26T05:37:43.091395Z",
     "iopub.status.busy": "2023-02-26T05:37:43.090951Z",
     "iopub.status.idle": "2023-02-26T05:37:43.112099Z",
     "shell.execute_reply": "2023-02-26T05:37:43.110723Z"
    },
    "papermill": {
     "duration": 0.041858,
     "end_time": "2023-02-26T05:37:43.114943",
     "exception": false,
     "start_time": "2023-02-26T05:37:43.073085",
     "status": "completed"
    },
    "tags": []
   },
   "outputs": [
    {
     "data": {
      "text/html": [
       "<div>\n",
       "<style scoped>\n",
       "    .dataframe tbody tr th:only-of-type {\n",
       "        vertical-align: middle;\n",
       "    }\n",
       "\n",
       "    .dataframe tbody tr th {\n",
       "        vertical-align: top;\n",
       "    }\n",
       "\n",
       "    .dataframe thead th {\n",
       "        text-align: right;\n",
       "    }\n",
       "</style>\n",
       "<table border=\"1\" class=\"dataframe\">\n",
       "  <thead>\n",
       "    <tr style=\"text-align: right;\">\n",
       "      <th></th>\n",
       "      <th>Temperature</th>\n",
       "      <th>Humidity</th>\n",
       "      <th>Wind Speed</th>\n",
       "      <th>general diffuse flows</th>\n",
       "      <th>diffuse flows</th>\n",
       "      <th>Zone 1 Power Consumption</th>\n",
       "      <th>Zone 2  Power Consumption</th>\n",
       "      <th>Zone 3  Power Consumption</th>\n",
       "      <th>Year</th>\n",
       "      <th>Month</th>\n",
       "      <th>Day</th>\n",
       "      <th>TotalMinutes</th>\n",
       "    </tr>\n",
       "  </thead>\n",
       "  <tbody>\n",
       "    <tr>\n",
       "      <th>0</th>\n",
       "      <td>-2.222861</td>\n",
       "      <td>0.358089</td>\n",
       "      <td>-0.853606</td>\n",
       "      <td>-0.702507</td>\n",
       "      <td>-0.614268</td>\n",
       "      <td>34055.69620</td>\n",
       "      <td>16128.87538</td>\n",
       "      <td>20240.96386</td>\n",
       "      <td>0.0</td>\n",
       "      <td>-1.590576</td>\n",
       "      <td>-1.673245</td>\n",
       "      <td>-1.720065</td>\n",
       "    </tr>\n",
       "    <tr>\n",
       "      <th>1</th>\n",
       "      <td>-2.248151</td>\n",
       "      <td>0.402658</td>\n",
       "      <td>-0.853606</td>\n",
       "      <td>-0.702437</td>\n",
       "      <td>-0.614534</td>\n",
       "      <td>29814.68354</td>\n",
       "      <td>19375.07599</td>\n",
       "      <td>20131.08434</td>\n",
       "      <td>0.0</td>\n",
       "      <td>-1.590576</td>\n",
       "      <td>-1.673245</td>\n",
       "      <td>-1.696007</td>\n",
       "    </tr>\n",
       "    <tr>\n",
       "      <th>2</th>\n",
       "      <td>-2.248151</td>\n",
       "      <td>0.402658</td>\n",
       "      <td>-0.854868</td>\n",
       "      <td>-0.702466</td>\n",
       "      <td>-0.614534</td>\n",
       "      <td>29128.10127</td>\n",
       "      <td>19006.68693</td>\n",
       "      <td>19668.43373</td>\n",
       "      <td>0.0</td>\n",
       "      <td>-1.590576</td>\n",
       "      <td>-1.673245</td>\n",
       "      <td>-1.671949</td>\n",
       "    </tr>\n",
       "    <tr>\n",
       "      <th>3</th>\n",
       "      <td>-2.299253</td>\n",
       "      <td>0.434494</td>\n",
       "      <td>-0.853606</td>\n",
       "      <td>-0.702466</td>\n",
       "      <td>-0.614448</td>\n",
       "      <td>28228.86076</td>\n",
       "      <td>18361.09422</td>\n",
       "      <td>18899.27711</td>\n",
       "      <td>0.0</td>\n",
       "      <td>-1.590576</td>\n",
       "      <td>-1.673245</td>\n",
       "      <td>-1.647891</td>\n",
       "    </tr>\n",
       "    <tr>\n",
       "      <th>4</th>\n",
       "      <td>-2.334135</td>\n",
       "      <td>0.479064</td>\n",
       "      <td>-0.854447</td>\n",
       "      <td>-0.702466</td>\n",
       "      <td>-0.614534</td>\n",
       "      <td>27335.69620</td>\n",
       "      <td>17872.34043</td>\n",
       "      <td>18442.40964</td>\n",
       "      <td>0.0</td>\n",
       "      <td>-1.590576</td>\n",
       "      <td>-1.673245</td>\n",
       "      <td>-1.623833</td>\n",
       "    </tr>\n",
       "  </tbody>\n",
       "</table>\n",
       "</div>"
      ],
      "text/plain": [
       "   Temperature  Humidity  Wind Speed  general diffuse flows  diffuse flows  \\\n",
       "0    -2.222861  0.358089   -0.853606              -0.702507      -0.614268   \n",
       "1    -2.248151  0.402658   -0.853606              -0.702437      -0.614534   \n",
       "2    -2.248151  0.402658   -0.854868              -0.702466      -0.614534   \n",
       "3    -2.299253  0.434494   -0.853606              -0.702466      -0.614448   \n",
       "4    -2.334135  0.479064   -0.854447              -0.702466      -0.614534   \n",
       "\n",
       "   Zone 1 Power Consumption  Zone 2  Power Consumption  \\\n",
       "0               34055.69620                16128.87538   \n",
       "1               29814.68354                19375.07599   \n",
       "2               29128.10127                19006.68693   \n",
       "3               28228.86076                18361.09422   \n",
       "4               27335.69620                17872.34043   \n",
       "\n",
       "   Zone 3  Power Consumption  Year     Month       Day  TotalMinutes  \n",
       "0                20240.96386   0.0 -1.590576 -1.673245     -1.720065  \n",
       "1                20131.08434   0.0 -1.590576 -1.673245     -1.696007  \n",
       "2                19668.43373   0.0 -1.590576 -1.673245     -1.671949  \n",
       "3                18899.27711   0.0 -1.590576 -1.673245     -1.647891  \n",
       "4                18442.40964   0.0 -1.590576 -1.673245     -1.623833  "
      ]
     },
     "execution_count": 27,
     "metadata": {},
     "output_type": "execute_result"
    }
   ],
   "source": [
    "df_train.head()"
   ]
  },
  {
   "cell_type": "code",
   "execution_count": 28,
   "id": "5f3b0f6e",
   "metadata": {
    "execution": {
     "iopub.execute_input": "2023-02-26T05:37:43.149332Z",
     "iopub.status.busy": "2023-02-26T05:37:43.148867Z",
     "iopub.status.idle": "2023-02-26T05:37:43.174794Z",
     "shell.execute_reply": "2023-02-26T05:37:43.173622Z"
    },
    "papermill": {
     "duration": 0.046127,
     "end_time": "2023-02-26T05:37:43.177360",
     "exception": false,
     "start_time": "2023-02-26T05:37:43.131233",
     "status": "completed"
    },
    "tags": []
   },
   "outputs": [
    {
     "data": {
      "text/html": [
       "<div>\n",
       "<style scoped>\n",
       "    .dataframe tbody tr th:only-of-type {\n",
       "        vertical-align: middle;\n",
       "    }\n",
       "\n",
       "    .dataframe tbody tr th {\n",
       "        vertical-align: top;\n",
       "    }\n",
       "\n",
       "    .dataframe thead th {\n",
       "        text-align: right;\n",
       "    }\n",
       "</style>\n",
       "<table border=\"1\" class=\"dataframe\">\n",
       "  <thead>\n",
       "    <tr style=\"text-align: right;\">\n",
       "      <th></th>\n",
       "      <th>Temperature</th>\n",
       "      <th>Humidity</th>\n",
       "      <th>Wind Speed</th>\n",
       "      <th>general diffuse flows</th>\n",
       "      <th>diffuse flows</th>\n",
       "      <th>Zone 1 Power Consumption</th>\n",
       "      <th>Zone 2  Power Consumption</th>\n",
       "      <th>Zone 3  Power Consumption</th>\n",
       "      <th>Year</th>\n",
       "      <th>Month</th>\n",
       "      <th>Day</th>\n",
       "      <th>TotalMinutes</th>\n",
       "    </tr>\n",
       "  </thead>\n",
       "  <tbody>\n",
       "    <tr>\n",
       "      <th>0</th>\n",
       "      <td>-2.222861</td>\n",
       "      <td>0.358089</td>\n",
       "      <td>-0.853606</td>\n",
       "      <td>-0.702507</td>\n",
       "      <td>-0.614268</td>\n",
       "      <td>34055.69620</td>\n",
       "      <td>16128.87538</td>\n",
       "      <td>20240.96386</td>\n",
       "      <td>0.0</td>\n",
       "      <td>-1.590576</td>\n",
       "      <td>-1.673245</td>\n",
       "      <td>-1.720065</td>\n",
       "    </tr>\n",
       "    <tr>\n",
       "      <th>1</th>\n",
       "      <td>-2.248151</td>\n",
       "      <td>0.402658</td>\n",
       "      <td>-0.853606</td>\n",
       "      <td>-0.702437</td>\n",
       "      <td>-0.614534</td>\n",
       "      <td>29814.68354</td>\n",
       "      <td>19375.07599</td>\n",
       "      <td>20131.08434</td>\n",
       "      <td>0.0</td>\n",
       "      <td>-1.590576</td>\n",
       "      <td>-1.673245</td>\n",
       "      <td>-1.696007</td>\n",
       "    </tr>\n",
       "    <tr>\n",
       "      <th>2</th>\n",
       "      <td>-2.248151</td>\n",
       "      <td>0.402658</td>\n",
       "      <td>-0.854868</td>\n",
       "      <td>-0.702466</td>\n",
       "      <td>-0.614534</td>\n",
       "      <td>29128.10127</td>\n",
       "      <td>19006.68693</td>\n",
       "      <td>19668.43373</td>\n",
       "      <td>0.0</td>\n",
       "      <td>-1.590576</td>\n",
       "      <td>-1.673245</td>\n",
       "      <td>-1.671949</td>\n",
       "    </tr>\n",
       "    <tr>\n",
       "      <th>3</th>\n",
       "      <td>-2.299253</td>\n",
       "      <td>0.434494</td>\n",
       "      <td>-0.853606</td>\n",
       "      <td>-0.702466</td>\n",
       "      <td>-0.614448</td>\n",
       "      <td>28228.86076</td>\n",
       "      <td>18361.09422</td>\n",
       "      <td>18899.27711</td>\n",
       "      <td>0.0</td>\n",
       "      <td>-1.590576</td>\n",
       "      <td>-1.673245</td>\n",
       "      <td>-1.647891</td>\n",
       "    </tr>\n",
       "    <tr>\n",
       "      <th>4</th>\n",
       "      <td>-2.334135</td>\n",
       "      <td>0.479064</td>\n",
       "      <td>-0.854447</td>\n",
       "      <td>-0.702466</td>\n",
       "      <td>-0.614534</td>\n",
       "      <td>27335.69620</td>\n",
       "      <td>17872.34043</td>\n",
       "      <td>18442.40964</td>\n",
       "      <td>0.0</td>\n",
       "      <td>-1.590576</td>\n",
       "      <td>-1.673245</td>\n",
       "      <td>-1.623833</td>\n",
       "    </tr>\n",
       "    <tr>\n",
       "      <th>...</th>\n",
       "      <td>...</td>\n",
       "      <td>...</td>\n",
       "      <td>...</td>\n",
       "      <td>...</td>\n",
       "      <td>...</td>\n",
       "      <td>...</td>\n",
       "      <td>...</td>\n",
       "      <td>...</td>\n",
       "      <td>...</td>\n",
       "      <td>...</td>\n",
       "      <td>...</td>\n",
       "      <td>...</td>\n",
       "    </tr>\n",
       "    <tr>\n",
       "      <th>47591</th>\n",
       "      <td>-1.160531</td>\n",
       "      <td>1.128508</td>\n",
       "      <td>-0.857391</td>\n",
       "      <td>-0.702507</td>\n",
       "      <td>-0.614385</td>\n",
       "      <td>31347.69231</td>\n",
       "      <td>25705.78512</td>\n",
       "      <td>13301.20482</td>\n",
       "      <td>0.0</td>\n",
       "      <td>1.578644</td>\n",
       "      <td>1.627942</td>\n",
       "      <td>1.623991</td>\n",
       "    </tr>\n",
       "    <tr>\n",
       "      <th>47592</th>\n",
       "      <td>-1.165763</td>\n",
       "      <td>1.141242</td>\n",
       "      <td>-0.858652</td>\n",
       "      <td>-0.702440</td>\n",
       "      <td>-0.614792</td>\n",
       "      <td>30603.07692</td>\n",
       "      <td>25088.42975</td>\n",
       "      <td>13081.44578</td>\n",
       "      <td>0.0</td>\n",
       "      <td>1.578644</td>\n",
       "      <td>1.627942</td>\n",
       "      <td>1.648049</td>\n",
       "    </tr>\n",
       "    <tr>\n",
       "      <th>47593</th>\n",
       "      <td>-1.164019</td>\n",
       "      <td>1.147609</td>\n",
       "      <td>-0.858652</td>\n",
       "      <td>-0.702451</td>\n",
       "      <td>-0.614385</td>\n",
       "      <td>29889.23077</td>\n",
       "      <td>24571.48760</td>\n",
       "      <td>12740.24096</td>\n",
       "      <td>0.0</td>\n",
       "      <td>1.578644</td>\n",
       "      <td>1.627942</td>\n",
       "      <td>1.672107</td>\n",
       "    </tr>\n",
       "    <tr>\n",
       "      <th>47594</th>\n",
       "      <td>-1.164019</td>\n",
       "      <td>1.141242</td>\n",
       "      <td>-0.858652</td>\n",
       "      <td>-0.702451</td>\n",
       "      <td>-0.614589</td>\n",
       "      <td>29249.23077</td>\n",
       "      <td>23942.97521</td>\n",
       "      <td>12480.00000</td>\n",
       "      <td>0.0</td>\n",
       "      <td>1.578644</td>\n",
       "      <td>1.627942</td>\n",
       "      <td>1.696165</td>\n",
       "    </tr>\n",
       "    <tr>\n",
       "      <th>47595</th>\n",
       "      <td>-1.237271</td>\n",
       "      <td>1.128508</td>\n",
       "      <td>-0.857811</td>\n",
       "      <td>-0.702588</td>\n",
       "      <td>-0.614182</td>\n",
       "      <td>28584.61538</td>\n",
       "      <td>23444.62810</td>\n",
       "      <td>12260.24096</td>\n",
       "      <td>0.0</td>\n",
       "      <td>1.578644</td>\n",
       "      <td>1.627942</td>\n",
       "      <td>1.720223</td>\n",
       "    </tr>\n",
       "  </tbody>\n",
       "</table>\n",
       "<p>47596 rows × 12 columns</p>\n",
       "</div>"
      ],
      "text/plain": [
       "       Temperature  Humidity  Wind Speed  general diffuse flows  \\\n",
       "0        -2.222861  0.358089   -0.853606              -0.702507   \n",
       "1        -2.248151  0.402658   -0.853606              -0.702437   \n",
       "2        -2.248151  0.402658   -0.854868              -0.702466   \n",
       "3        -2.299253  0.434494   -0.853606              -0.702466   \n",
       "4        -2.334135  0.479064   -0.854447              -0.702466   \n",
       "...            ...       ...         ...                    ...   \n",
       "47591    -1.160531  1.128508   -0.857391              -0.702507   \n",
       "47592    -1.165763  1.141242   -0.858652              -0.702440   \n",
       "47593    -1.164019  1.147609   -0.858652              -0.702451   \n",
       "47594    -1.164019  1.141242   -0.858652              -0.702451   \n",
       "47595    -1.237271  1.128508   -0.857811              -0.702588   \n",
       "\n",
       "       diffuse flows  Zone 1 Power Consumption  Zone 2  Power Consumption  \\\n",
       "0          -0.614268               34055.69620                16128.87538   \n",
       "1          -0.614534               29814.68354                19375.07599   \n",
       "2          -0.614534               29128.10127                19006.68693   \n",
       "3          -0.614448               28228.86076                18361.09422   \n",
       "4          -0.614534               27335.69620                17872.34043   \n",
       "...              ...                       ...                        ...   \n",
       "47591      -0.614385               31347.69231                25705.78512   \n",
       "47592      -0.614792               30603.07692                25088.42975   \n",
       "47593      -0.614385               29889.23077                24571.48760   \n",
       "47594      -0.614589               29249.23077                23942.97521   \n",
       "47595      -0.614182               28584.61538                23444.62810   \n",
       "\n",
       "       Zone 3  Power Consumption  Year     Month       Day  TotalMinutes  \n",
       "0                    20240.96386   0.0 -1.590576 -1.673245     -1.720065  \n",
       "1                    20131.08434   0.0 -1.590576 -1.673245     -1.696007  \n",
       "2                    19668.43373   0.0 -1.590576 -1.673245     -1.671949  \n",
       "3                    18899.27711   0.0 -1.590576 -1.673245     -1.647891  \n",
       "4                    18442.40964   0.0 -1.590576 -1.673245     -1.623833  \n",
       "...                          ...   ...       ...       ...           ...  \n",
       "47591                13301.20482   0.0  1.578644  1.627942      1.623991  \n",
       "47592                13081.44578   0.0  1.578644  1.627942      1.648049  \n",
       "47593                12740.24096   0.0  1.578644  1.627942      1.672107  \n",
       "47594                12480.00000   0.0  1.578644  1.627942      1.696165  \n",
       "47595                12260.24096   0.0  1.578644  1.627942      1.720223  \n",
       "\n",
       "[47596 rows x 12 columns]"
      ]
     },
     "execution_count": 28,
     "metadata": {},
     "output_type": "execute_result"
    }
   ],
   "source": [
    "df_train"
   ]
  },
  {
   "cell_type": "code",
   "execution_count": 29,
   "id": "77e1534f",
   "metadata": {
    "execution": {
     "iopub.execute_input": "2023-02-26T05:37:43.212175Z",
     "iopub.status.busy": "2023-02-26T05:37:43.211402Z",
     "iopub.status.idle": "2023-02-26T05:37:43.238233Z",
     "shell.execute_reply": "2023-02-26T05:37:43.236661Z"
    },
    "papermill": {
     "duration": 0.04712,
     "end_time": "2023-02-26T05:37:43.240902",
     "exception": false,
     "start_time": "2023-02-26T05:37:43.193782",
     "status": "completed"
    },
    "tags": []
   },
   "outputs": [
    {
     "data": {
      "text/html": [
       "<div>\n",
       "<style scoped>\n",
       "    .dataframe tbody tr th:only-of-type {\n",
       "        vertical-align: middle;\n",
       "    }\n",
       "\n",
       "    .dataframe tbody tr th {\n",
       "        vertical-align: top;\n",
       "    }\n",
       "\n",
       "    .dataframe thead th {\n",
       "        text-align: right;\n",
       "    }\n",
       "</style>\n",
       "<table border=\"1\" class=\"dataframe\">\n",
       "  <thead>\n",
       "    <tr style=\"text-align: right;\">\n",
       "      <th></th>\n",
       "      <th>Temperature</th>\n",
       "      <th>Humidity</th>\n",
       "      <th>Wind Speed</th>\n",
       "      <th>general diffuse flows</th>\n",
       "      <th>diffuse flows</th>\n",
       "      <th>Zone 1 Power Consumption</th>\n",
       "      <th>Zone 2  Power Consumption</th>\n",
       "      <th>Zone 3  Power Consumption</th>\n",
       "      <th>Year</th>\n",
       "      <th>Month</th>\n",
       "      <th>Day</th>\n",
       "      <th>TotalMinutes</th>\n",
       "    </tr>\n",
       "  </thead>\n",
       "  <tbody>\n",
       "    <tr>\n",
       "      <th>0</th>\n",
       "      <td>-2.222861</td>\n",
       "      <td>0.358089</td>\n",
       "      <td>-0.853606</td>\n",
       "      <td>-0.702507</td>\n",
       "      <td>-0.614268</td>\n",
       "      <td>34055.69620</td>\n",
       "      <td>16128.87538</td>\n",
       "      <td>20240.96386</td>\n",
       "      <td>0.0</td>\n",
       "      <td>-1.590576</td>\n",
       "      <td>-1.673245</td>\n",
       "      <td>-1.720065</td>\n",
       "    </tr>\n",
       "    <tr>\n",
       "      <th>1</th>\n",
       "      <td>-2.248151</td>\n",
       "      <td>0.402658</td>\n",
       "      <td>-0.853606</td>\n",
       "      <td>-0.702437</td>\n",
       "      <td>-0.614534</td>\n",
       "      <td>29814.68354</td>\n",
       "      <td>19375.07599</td>\n",
       "      <td>20131.08434</td>\n",
       "      <td>0.0</td>\n",
       "      <td>-1.590576</td>\n",
       "      <td>-1.673245</td>\n",
       "      <td>-1.696007</td>\n",
       "    </tr>\n",
       "    <tr>\n",
       "      <th>2</th>\n",
       "      <td>-2.248151</td>\n",
       "      <td>0.402658</td>\n",
       "      <td>-0.854868</td>\n",
       "      <td>-0.702466</td>\n",
       "      <td>-0.614534</td>\n",
       "      <td>29128.10127</td>\n",
       "      <td>19006.68693</td>\n",
       "      <td>19668.43373</td>\n",
       "      <td>0.0</td>\n",
       "      <td>-1.590576</td>\n",
       "      <td>-1.673245</td>\n",
       "      <td>-1.671949</td>\n",
       "    </tr>\n",
       "    <tr>\n",
       "      <th>3</th>\n",
       "      <td>-2.299253</td>\n",
       "      <td>0.434494</td>\n",
       "      <td>-0.853606</td>\n",
       "      <td>-0.702466</td>\n",
       "      <td>-0.614448</td>\n",
       "      <td>28228.86076</td>\n",
       "      <td>18361.09422</td>\n",
       "      <td>18899.27711</td>\n",
       "      <td>0.0</td>\n",
       "      <td>-1.590576</td>\n",
       "      <td>-1.673245</td>\n",
       "      <td>-1.647891</td>\n",
       "    </tr>\n",
       "    <tr>\n",
       "      <th>4</th>\n",
       "      <td>-2.334135</td>\n",
       "      <td>0.479064</td>\n",
       "      <td>-0.854447</td>\n",
       "      <td>-0.702466</td>\n",
       "      <td>-0.614534</td>\n",
       "      <td>27335.69620</td>\n",
       "      <td>17872.34043</td>\n",
       "      <td>18442.40964</td>\n",
       "      <td>0.0</td>\n",
       "      <td>-1.590576</td>\n",
       "      <td>-1.673245</td>\n",
       "      <td>-1.623833</td>\n",
       "    </tr>\n",
       "    <tr>\n",
       "      <th>...</th>\n",
       "      <td>...</td>\n",
       "      <td>...</td>\n",
       "      <td>...</td>\n",
       "      <td>...</td>\n",
       "      <td>...</td>\n",
       "      <td>...</td>\n",
       "      <td>...</td>\n",
       "      <td>...</td>\n",
       "      <td>...</td>\n",
       "      <td>...</td>\n",
       "      <td>...</td>\n",
       "      <td>...</td>\n",
       "    </tr>\n",
       "    <tr>\n",
       "      <th>47591</th>\n",
       "      <td>-1.160531</td>\n",
       "      <td>1.128508</td>\n",
       "      <td>-0.857391</td>\n",
       "      <td>-0.702507</td>\n",
       "      <td>-0.614385</td>\n",
       "      <td>31347.69231</td>\n",
       "      <td>25705.78512</td>\n",
       "      <td>13301.20482</td>\n",
       "      <td>0.0</td>\n",
       "      <td>1.578644</td>\n",
       "      <td>1.627942</td>\n",
       "      <td>1.623991</td>\n",
       "    </tr>\n",
       "    <tr>\n",
       "      <th>47592</th>\n",
       "      <td>-1.165763</td>\n",
       "      <td>1.141242</td>\n",
       "      <td>-0.858652</td>\n",
       "      <td>-0.702440</td>\n",
       "      <td>-0.614792</td>\n",
       "      <td>30603.07692</td>\n",
       "      <td>25088.42975</td>\n",
       "      <td>13081.44578</td>\n",
       "      <td>0.0</td>\n",
       "      <td>1.578644</td>\n",
       "      <td>1.627942</td>\n",
       "      <td>1.648049</td>\n",
       "    </tr>\n",
       "    <tr>\n",
       "      <th>47593</th>\n",
       "      <td>-1.164019</td>\n",
       "      <td>1.147609</td>\n",
       "      <td>-0.858652</td>\n",
       "      <td>-0.702451</td>\n",
       "      <td>-0.614385</td>\n",
       "      <td>29889.23077</td>\n",
       "      <td>24571.48760</td>\n",
       "      <td>12740.24096</td>\n",
       "      <td>0.0</td>\n",
       "      <td>1.578644</td>\n",
       "      <td>1.627942</td>\n",
       "      <td>1.672107</td>\n",
       "    </tr>\n",
       "    <tr>\n",
       "      <th>47594</th>\n",
       "      <td>-1.164019</td>\n",
       "      <td>1.141242</td>\n",
       "      <td>-0.858652</td>\n",
       "      <td>-0.702451</td>\n",
       "      <td>-0.614589</td>\n",
       "      <td>29249.23077</td>\n",
       "      <td>23942.97521</td>\n",
       "      <td>12480.00000</td>\n",
       "      <td>0.0</td>\n",
       "      <td>1.578644</td>\n",
       "      <td>1.627942</td>\n",
       "      <td>1.696165</td>\n",
       "    </tr>\n",
       "    <tr>\n",
       "      <th>47595</th>\n",
       "      <td>-1.237271</td>\n",
       "      <td>1.128508</td>\n",
       "      <td>-0.857811</td>\n",
       "      <td>-0.702588</td>\n",
       "      <td>-0.614182</td>\n",
       "      <td>28584.61538</td>\n",
       "      <td>23444.62810</td>\n",
       "      <td>12260.24096</td>\n",
       "      <td>0.0</td>\n",
       "      <td>1.578644</td>\n",
       "      <td>1.627942</td>\n",
       "      <td>1.720223</td>\n",
       "    </tr>\n",
       "  </tbody>\n",
       "</table>\n",
       "<p>47596 rows × 12 columns</p>\n",
       "</div>"
      ],
      "text/plain": [
       "       Temperature  Humidity  Wind Speed  general diffuse flows  \\\n",
       "0        -2.222861  0.358089   -0.853606              -0.702507   \n",
       "1        -2.248151  0.402658   -0.853606              -0.702437   \n",
       "2        -2.248151  0.402658   -0.854868              -0.702466   \n",
       "3        -2.299253  0.434494   -0.853606              -0.702466   \n",
       "4        -2.334135  0.479064   -0.854447              -0.702466   \n",
       "...            ...       ...         ...                    ...   \n",
       "47591    -1.160531  1.128508   -0.857391              -0.702507   \n",
       "47592    -1.165763  1.141242   -0.858652              -0.702440   \n",
       "47593    -1.164019  1.147609   -0.858652              -0.702451   \n",
       "47594    -1.164019  1.141242   -0.858652              -0.702451   \n",
       "47595    -1.237271  1.128508   -0.857811              -0.702588   \n",
       "\n",
       "       diffuse flows  Zone 1 Power Consumption  Zone 2  Power Consumption  \\\n",
       "0          -0.614268               34055.69620                16128.87538   \n",
       "1          -0.614534               29814.68354                19375.07599   \n",
       "2          -0.614534               29128.10127                19006.68693   \n",
       "3          -0.614448               28228.86076                18361.09422   \n",
       "4          -0.614534               27335.69620                17872.34043   \n",
       "...              ...                       ...                        ...   \n",
       "47591      -0.614385               31347.69231                25705.78512   \n",
       "47592      -0.614792               30603.07692                25088.42975   \n",
       "47593      -0.614385               29889.23077                24571.48760   \n",
       "47594      -0.614589               29249.23077                23942.97521   \n",
       "47595      -0.614182               28584.61538                23444.62810   \n",
       "\n",
       "       Zone 3  Power Consumption  Year     Month       Day  TotalMinutes  \n",
       "0                    20240.96386   0.0 -1.590576 -1.673245     -1.720065  \n",
       "1                    20131.08434   0.0 -1.590576 -1.673245     -1.696007  \n",
       "2                    19668.43373   0.0 -1.590576 -1.673245     -1.671949  \n",
       "3                    18899.27711   0.0 -1.590576 -1.673245     -1.647891  \n",
       "4                    18442.40964   0.0 -1.590576 -1.673245     -1.623833  \n",
       "...                          ...   ...       ...       ...           ...  \n",
       "47591                13301.20482   0.0  1.578644  1.627942      1.623991  \n",
       "47592                13081.44578   0.0  1.578644  1.627942      1.648049  \n",
       "47593                12740.24096   0.0  1.578644  1.627942      1.672107  \n",
       "47594                12480.00000   0.0  1.578644  1.627942      1.696165  \n",
       "47595                12260.24096   0.0  1.578644  1.627942      1.720223  \n",
       "\n",
       "[47596 rows x 12 columns]"
      ]
     },
     "execution_count": 29,
     "metadata": {},
     "output_type": "execute_result"
    }
   ],
   "source": [
    "df_train"
   ]
  },
  {
   "cell_type": "code",
   "execution_count": null,
   "id": "046f1485",
   "metadata": {
    "papermill": {
     "duration": 0.016586,
     "end_time": "2023-02-26T05:37:43.275151",
     "exception": false,
     "start_time": "2023-02-26T05:37:43.258565",
     "status": "completed"
    },
    "tags": []
   },
   "outputs": [],
   "source": []
  },
  {
   "cell_type": "code",
   "execution_count": 30,
   "id": "4a3bf84a",
   "metadata": {
    "execution": {
     "iopub.execute_input": "2023-02-26T05:37:43.311107Z",
     "iopub.status.busy": "2023-02-26T05:37:43.309956Z",
     "iopub.status.idle": "2023-02-26T05:37:43.315557Z",
     "shell.execute_reply": "2023-02-26T05:37:43.314569Z"
    },
    "papermill": {
     "duration": 0.026165,
     "end_time": "2023-02-26T05:37:43.318062",
     "exception": false,
     "start_time": "2023-02-26T05:37:43.291897",
     "status": "completed"
    },
    "tags": []
   },
   "outputs": [],
   "source": [
    "l1=list(df_train.columns)"
   ]
  },
  {
   "cell_type": "code",
   "execution_count": 31,
   "id": "7122430a",
   "metadata": {
    "execution": {
     "iopub.execute_input": "2023-02-26T05:37:43.353188Z",
     "iopub.status.busy": "2023-02-26T05:37:43.352750Z",
     "iopub.status.idle": "2023-02-26T05:37:43.360905Z",
     "shell.execute_reply": "2023-02-26T05:37:43.359307Z"
    },
    "papermill": {
     "duration": 0.029466,
     "end_time": "2023-02-26T05:37:43.364153",
     "exception": false,
     "start_time": "2023-02-26T05:37:43.334687",
     "status": "completed"
    },
    "tags": []
   },
   "outputs": [
    {
     "data": {
      "text/plain": [
       "['Temperature',\n",
       " 'Humidity',\n",
       " 'Wind Speed',\n",
       " 'general diffuse flows',\n",
       " 'diffuse flows',\n",
       " 'Zone 1 Power Consumption',\n",
       " 'Zone 2  Power Consumption',\n",
       " 'Zone 3  Power Consumption',\n",
       " 'Year',\n",
       " 'Month',\n",
       " 'Day',\n",
       " 'TotalMinutes']"
      ]
     },
     "execution_count": 31,
     "metadata": {},
     "output_type": "execute_result"
    }
   ],
   "source": [
    "l1"
   ]
  },
  {
   "cell_type": "code",
   "execution_count": null,
   "id": "5220d28f",
   "metadata": {
    "papermill": {
     "duration": 0.016378,
     "end_time": "2023-02-26T05:37:43.398363",
     "exception": false,
     "start_time": "2023-02-26T05:37:43.381985",
     "status": "completed"
    },
    "tags": []
   },
   "outputs": [],
   "source": []
  },
  {
   "cell_type": "code",
   "execution_count": 32,
   "id": "3c0194a1",
   "metadata": {
    "execution": {
     "iopub.execute_input": "2023-02-26T05:37:43.433559Z",
     "iopub.status.busy": "2023-02-26T05:37:43.433114Z",
     "iopub.status.idle": "2023-02-26T05:37:43.445488Z",
     "shell.execute_reply": "2023-02-26T05:37:43.444092Z"
    },
    "papermill": {
     "duration": 0.033607,
     "end_time": "2023-02-26T05:37:43.448482",
     "exception": false,
     "start_time": "2023-02-26T05:37:43.414875",
     "status": "completed"
    },
    "tags": []
   },
   "outputs": [],
   "source": [
    "x=df_train[l1[:5]+l1[8:]]\n",
    "y=df_train[l1[5:8]]"
   ]
  },
  {
   "cell_type": "code",
   "execution_count": 33,
   "id": "9d06f19c",
   "metadata": {
    "execution": {
     "iopub.execute_input": "2023-02-26T05:37:43.484491Z",
     "iopub.status.busy": "2023-02-26T05:37:43.484047Z",
     "iopub.status.idle": "2023-02-26T05:37:43.505281Z",
     "shell.execute_reply": "2023-02-26T05:37:43.503881Z"
    },
    "papermill": {
     "duration": 0.043128,
     "end_time": "2023-02-26T05:37:43.508273",
     "exception": false,
     "start_time": "2023-02-26T05:37:43.465145",
     "status": "completed"
    },
    "tags": []
   },
   "outputs": [
    {
     "data": {
      "text/html": [
       "<div>\n",
       "<style scoped>\n",
       "    .dataframe tbody tr th:only-of-type {\n",
       "        vertical-align: middle;\n",
       "    }\n",
       "\n",
       "    .dataframe tbody tr th {\n",
       "        vertical-align: top;\n",
       "    }\n",
       "\n",
       "    .dataframe thead th {\n",
       "        text-align: right;\n",
       "    }\n",
       "</style>\n",
       "<table border=\"1\" class=\"dataframe\">\n",
       "  <thead>\n",
       "    <tr style=\"text-align: right;\">\n",
       "      <th></th>\n",
       "      <th>Temperature</th>\n",
       "      <th>Humidity</th>\n",
       "      <th>Wind Speed</th>\n",
       "      <th>general diffuse flows</th>\n",
       "      <th>diffuse flows</th>\n",
       "      <th>Year</th>\n",
       "      <th>Month</th>\n",
       "      <th>Day</th>\n",
       "      <th>TotalMinutes</th>\n",
       "    </tr>\n",
       "  </thead>\n",
       "  <tbody>\n",
       "    <tr>\n",
       "      <th>0</th>\n",
       "      <td>-2.222861</td>\n",
       "      <td>0.358089</td>\n",
       "      <td>-0.853606</td>\n",
       "      <td>-0.702507</td>\n",
       "      <td>-0.614268</td>\n",
       "      <td>0.0</td>\n",
       "      <td>-1.590576</td>\n",
       "      <td>-1.673245</td>\n",
       "      <td>-1.720065</td>\n",
       "    </tr>\n",
       "    <tr>\n",
       "      <th>1</th>\n",
       "      <td>-2.248151</td>\n",
       "      <td>0.402658</td>\n",
       "      <td>-0.853606</td>\n",
       "      <td>-0.702437</td>\n",
       "      <td>-0.614534</td>\n",
       "      <td>0.0</td>\n",
       "      <td>-1.590576</td>\n",
       "      <td>-1.673245</td>\n",
       "      <td>-1.696007</td>\n",
       "    </tr>\n",
       "    <tr>\n",
       "      <th>2</th>\n",
       "      <td>-2.248151</td>\n",
       "      <td>0.402658</td>\n",
       "      <td>-0.854868</td>\n",
       "      <td>-0.702466</td>\n",
       "      <td>-0.614534</td>\n",
       "      <td>0.0</td>\n",
       "      <td>-1.590576</td>\n",
       "      <td>-1.673245</td>\n",
       "      <td>-1.671949</td>\n",
       "    </tr>\n",
       "    <tr>\n",
       "      <th>3</th>\n",
       "      <td>-2.299253</td>\n",
       "      <td>0.434494</td>\n",
       "      <td>-0.853606</td>\n",
       "      <td>-0.702466</td>\n",
       "      <td>-0.614448</td>\n",
       "      <td>0.0</td>\n",
       "      <td>-1.590576</td>\n",
       "      <td>-1.673245</td>\n",
       "      <td>-1.647891</td>\n",
       "    </tr>\n",
       "    <tr>\n",
       "      <th>4</th>\n",
       "      <td>-2.334135</td>\n",
       "      <td>0.479064</td>\n",
       "      <td>-0.854447</td>\n",
       "      <td>-0.702466</td>\n",
       "      <td>-0.614534</td>\n",
       "      <td>0.0</td>\n",
       "      <td>-1.590576</td>\n",
       "      <td>-1.673245</td>\n",
       "      <td>-1.623833</td>\n",
       "    </tr>\n",
       "    <tr>\n",
       "      <th>...</th>\n",
       "      <td>...</td>\n",
       "      <td>...</td>\n",
       "      <td>...</td>\n",
       "      <td>...</td>\n",
       "      <td>...</td>\n",
       "      <td>...</td>\n",
       "      <td>...</td>\n",
       "      <td>...</td>\n",
       "      <td>...</td>\n",
       "    </tr>\n",
       "    <tr>\n",
       "      <th>47591</th>\n",
       "      <td>-1.160531</td>\n",
       "      <td>1.128508</td>\n",
       "      <td>-0.857391</td>\n",
       "      <td>-0.702507</td>\n",
       "      <td>-0.614385</td>\n",
       "      <td>0.0</td>\n",
       "      <td>1.578644</td>\n",
       "      <td>1.627942</td>\n",
       "      <td>1.623991</td>\n",
       "    </tr>\n",
       "    <tr>\n",
       "      <th>47592</th>\n",
       "      <td>-1.165763</td>\n",
       "      <td>1.141242</td>\n",
       "      <td>-0.858652</td>\n",
       "      <td>-0.702440</td>\n",
       "      <td>-0.614792</td>\n",
       "      <td>0.0</td>\n",
       "      <td>1.578644</td>\n",
       "      <td>1.627942</td>\n",
       "      <td>1.648049</td>\n",
       "    </tr>\n",
       "    <tr>\n",
       "      <th>47593</th>\n",
       "      <td>-1.164019</td>\n",
       "      <td>1.147609</td>\n",
       "      <td>-0.858652</td>\n",
       "      <td>-0.702451</td>\n",
       "      <td>-0.614385</td>\n",
       "      <td>0.0</td>\n",
       "      <td>1.578644</td>\n",
       "      <td>1.627942</td>\n",
       "      <td>1.672107</td>\n",
       "    </tr>\n",
       "    <tr>\n",
       "      <th>47594</th>\n",
       "      <td>-1.164019</td>\n",
       "      <td>1.141242</td>\n",
       "      <td>-0.858652</td>\n",
       "      <td>-0.702451</td>\n",
       "      <td>-0.614589</td>\n",
       "      <td>0.0</td>\n",
       "      <td>1.578644</td>\n",
       "      <td>1.627942</td>\n",
       "      <td>1.696165</td>\n",
       "    </tr>\n",
       "    <tr>\n",
       "      <th>47595</th>\n",
       "      <td>-1.237271</td>\n",
       "      <td>1.128508</td>\n",
       "      <td>-0.857811</td>\n",
       "      <td>-0.702588</td>\n",
       "      <td>-0.614182</td>\n",
       "      <td>0.0</td>\n",
       "      <td>1.578644</td>\n",
       "      <td>1.627942</td>\n",
       "      <td>1.720223</td>\n",
       "    </tr>\n",
       "  </tbody>\n",
       "</table>\n",
       "<p>47596 rows × 9 columns</p>\n",
       "</div>"
      ],
      "text/plain": [
       "       Temperature  Humidity  Wind Speed  general diffuse flows  \\\n",
       "0        -2.222861  0.358089   -0.853606              -0.702507   \n",
       "1        -2.248151  0.402658   -0.853606              -0.702437   \n",
       "2        -2.248151  0.402658   -0.854868              -0.702466   \n",
       "3        -2.299253  0.434494   -0.853606              -0.702466   \n",
       "4        -2.334135  0.479064   -0.854447              -0.702466   \n",
       "...            ...       ...         ...                    ...   \n",
       "47591    -1.160531  1.128508   -0.857391              -0.702507   \n",
       "47592    -1.165763  1.141242   -0.858652              -0.702440   \n",
       "47593    -1.164019  1.147609   -0.858652              -0.702451   \n",
       "47594    -1.164019  1.141242   -0.858652              -0.702451   \n",
       "47595    -1.237271  1.128508   -0.857811              -0.702588   \n",
       "\n",
       "       diffuse flows  Year     Month       Day  TotalMinutes  \n",
       "0          -0.614268   0.0 -1.590576 -1.673245     -1.720065  \n",
       "1          -0.614534   0.0 -1.590576 -1.673245     -1.696007  \n",
       "2          -0.614534   0.0 -1.590576 -1.673245     -1.671949  \n",
       "3          -0.614448   0.0 -1.590576 -1.673245     -1.647891  \n",
       "4          -0.614534   0.0 -1.590576 -1.673245     -1.623833  \n",
       "...              ...   ...       ...       ...           ...  \n",
       "47591      -0.614385   0.0  1.578644  1.627942      1.623991  \n",
       "47592      -0.614792   0.0  1.578644  1.627942      1.648049  \n",
       "47593      -0.614385   0.0  1.578644  1.627942      1.672107  \n",
       "47594      -0.614589   0.0  1.578644  1.627942      1.696165  \n",
       "47595      -0.614182   0.0  1.578644  1.627942      1.720223  \n",
       "\n",
       "[47596 rows x 9 columns]"
      ]
     },
     "execution_count": 33,
     "metadata": {},
     "output_type": "execute_result"
    }
   ],
   "source": [
    "x"
   ]
  },
  {
   "cell_type": "code",
   "execution_count": 34,
   "id": "fe349043",
   "metadata": {
    "execution": {
     "iopub.execute_input": "2023-02-26T05:37:43.545705Z",
     "iopub.status.busy": "2023-02-26T05:37:43.545222Z",
     "iopub.status.idle": "2023-02-26T05:37:43.560394Z",
     "shell.execute_reply": "2023-02-26T05:37:43.559324Z"
    },
    "papermill": {
     "duration": 0.037478,
     "end_time": "2023-02-26T05:37:43.563303",
     "exception": false,
     "start_time": "2023-02-26T05:37:43.525825",
     "status": "completed"
    },
    "tags": []
   },
   "outputs": [
    {
     "data": {
      "text/html": [
       "<div>\n",
       "<style scoped>\n",
       "    .dataframe tbody tr th:only-of-type {\n",
       "        vertical-align: middle;\n",
       "    }\n",
       "\n",
       "    .dataframe tbody tr th {\n",
       "        vertical-align: top;\n",
       "    }\n",
       "\n",
       "    .dataframe thead th {\n",
       "        text-align: right;\n",
       "    }\n",
       "</style>\n",
       "<table border=\"1\" class=\"dataframe\">\n",
       "  <thead>\n",
       "    <tr style=\"text-align: right;\">\n",
       "      <th></th>\n",
       "      <th>Zone 1 Power Consumption</th>\n",
       "      <th>Zone 2  Power Consumption</th>\n",
       "      <th>Zone 3  Power Consumption</th>\n",
       "    </tr>\n",
       "  </thead>\n",
       "  <tbody>\n",
       "    <tr>\n",
       "      <th>0</th>\n",
       "      <td>34055.69620</td>\n",
       "      <td>16128.87538</td>\n",
       "      <td>20240.96386</td>\n",
       "    </tr>\n",
       "    <tr>\n",
       "      <th>1</th>\n",
       "      <td>29814.68354</td>\n",
       "      <td>19375.07599</td>\n",
       "      <td>20131.08434</td>\n",
       "    </tr>\n",
       "    <tr>\n",
       "      <th>2</th>\n",
       "      <td>29128.10127</td>\n",
       "      <td>19006.68693</td>\n",
       "      <td>19668.43373</td>\n",
       "    </tr>\n",
       "    <tr>\n",
       "      <th>3</th>\n",
       "      <td>28228.86076</td>\n",
       "      <td>18361.09422</td>\n",
       "      <td>18899.27711</td>\n",
       "    </tr>\n",
       "    <tr>\n",
       "      <th>4</th>\n",
       "      <td>27335.69620</td>\n",
       "      <td>17872.34043</td>\n",
       "      <td>18442.40964</td>\n",
       "    </tr>\n",
       "    <tr>\n",
       "      <th>...</th>\n",
       "      <td>...</td>\n",
       "      <td>...</td>\n",
       "      <td>...</td>\n",
       "    </tr>\n",
       "    <tr>\n",
       "      <th>47591</th>\n",
       "      <td>31347.69231</td>\n",
       "      <td>25705.78512</td>\n",
       "      <td>13301.20482</td>\n",
       "    </tr>\n",
       "    <tr>\n",
       "      <th>47592</th>\n",
       "      <td>30603.07692</td>\n",
       "      <td>25088.42975</td>\n",
       "      <td>13081.44578</td>\n",
       "    </tr>\n",
       "    <tr>\n",
       "      <th>47593</th>\n",
       "      <td>29889.23077</td>\n",
       "      <td>24571.48760</td>\n",
       "      <td>12740.24096</td>\n",
       "    </tr>\n",
       "    <tr>\n",
       "      <th>47594</th>\n",
       "      <td>29249.23077</td>\n",
       "      <td>23942.97521</td>\n",
       "      <td>12480.00000</td>\n",
       "    </tr>\n",
       "    <tr>\n",
       "      <th>47595</th>\n",
       "      <td>28584.61538</td>\n",
       "      <td>23444.62810</td>\n",
       "      <td>12260.24096</td>\n",
       "    </tr>\n",
       "  </tbody>\n",
       "</table>\n",
       "<p>47596 rows × 3 columns</p>\n",
       "</div>"
      ],
      "text/plain": [
       "       Zone 1 Power Consumption  Zone 2  Power Consumption  \\\n",
       "0                   34055.69620                16128.87538   \n",
       "1                   29814.68354                19375.07599   \n",
       "2                   29128.10127                19006.68693   \n",
       "3                   28228.86076                18361.09422   \n",
       "4                   27335.69620                17872.34043   \n",
       "...                         ...                        ...   \n",
       "47591               31347.69231                25705.78512   \n",
       "47592               30603.07692                25088.42975   \n",
       "47593               29889.23077                24571.48760   \n",
       "47594               29249.23077                23942.97521   \n",
       "47595               28584.61538                23444.62810   \n",
       "\n",
       "       Zone 3  Power Consumption  \n",
       "0                    20240.96386  \n",
       "1                    20131.08434  \n",
       "2                    19668.43373  \n",
       "3                    18899.27711  \n",
       "4                    18442.40964  \n",
       "...                          ...  \n",
       "47591                13301.20482  \n",
       "47592                13081.44578  \n",
       "47593                12740.24096  \n",
       "47594                12480.00000  \n",
       "47595                12260.24096  \n",
       "\n",
       "[47596 rows x 3 columns]"
      ]
     },
     "execution_count": 34,
     "metadata": {},
     "output_type": "execute_result"
    }
   ],
   "source": [
    "y"
   ]
  },
  {
   "cell_type": "code",
   "execution_count": 35,
   "id": "44d1a89e",
   "metadata": {
    "execution": {
     "iopub.execute_input": "2023-02-26T05:37:43.600591Z",
     "iopub.status.busy": "2023-02-26T05:37:43.600138Z",
     "iopub.status.idle": "2023-02-26T05:37:43.608515Z",
     "shell.execute_reply": "2023-02-26T05:37:43.607134Z"
    },
    "papermill": {
     "duration": 0.030876,
     "end_time": "2023-02-26T05:37:43.611651",
     "exception": false,
     "start_time": "2023-02-26T05:37:43.580775",
     "status": "completed"
    },
    "tags": []
   },
   "outputs": [
    {
     "data": {
      "text/plain": [
       "Index(['Zone 1 Power Consumption', 'Zone 2  Power Consumption',\n",
       "       'Zone 3  Power Consumption'],\n",
       "      dtype='object')"
      ]
     },
     "execution_count": 35,
     "metadata": {},
     "output_type": "execute_result"
    }
   ],
   "source": [
    "y.columns"
   ]
  },
  {
   "cell_type": "markdown",
   "id": "f573c8c1",
   "metadata": {
    "papermill": {
     "duration": 0.017532,
     "end_time": "2023-02-26T05:37:43.646646",
     "exception": false,
     "start_time": "2023-02-26T05:37:43.629114",
     "status": "completed"
    },
    "tags": []
   },
   "source": []
  },
  {
   "cell_type": "code",
   "execution_count": 36,
   "id": "1d554058",
   "metadata": {
    "execution": {
     "iopub.execute_input": "2023-02-26T05:37:43.684754Z",
     "iopub.status.busy": "2023-02-26T05:37:43.684322Z",
     "iopub.status.idle": "2023-02-26T05:37:43.690057Z",
     "shell.execute_reply": "2023-02-26T05:37:43.688580Z"
    },
    "papermill": {
     "duration": 0.02786,
     "end_time": "2023-02-26T05:37:43.692910",
     "exception": false,
     "start_time": "2023-02-26T05:37:43.665050",
     "status": "completed"
    },
    "tags": []
   },
   "outputs": [],
   "source": [
    "y1=y['Zone 1 Power Consumption']\n",
    "y2=y['Zone 2  Power Consumption']\n",
    "y3=y['Zone 3  Power Consumption']"
   ]
  },
  {
   "cell_type": "code",
   "execution_count": 37,
   "id": "ccca4ef7",
   "metadata": {
    "execution": {
     "iopub.execute_input": "2023-02-26T05:37:43.730329Z",
     "iopub.status.busy": "2023-02-26T05:37:43.729805Z",
     "iopub.status.idle": "2023-02-26T05:37:43.753091Z",
     "shell.execute_reply": "2023-02-26T05:37:43.751706Z"
    },
    "papermill": {
     "duration": 0.045402,
     "end_time": "2023-02-26T05:37:43.756127",
     "exception": false,
     "start_time": "2023-02-26T05:37:43.710725",
     "status": "completed"
    },
    "tags": []
   },
   "outputs": [
    {
     "data": {
      "text/html": [
       "<div>\n",
       "<style scoped>\n",
       "    .dataframe tbody tr th:only-of-type {\n",
       "        vertical-align: middle;\n",
       "    }\n",
       "\n",
       "    .dataframe tbody tr th {\n",
       "        vertical-align: top;\n",
       "    }\n",
       "\n",
       "    .dataframe thead th {\n",
       "        text-align: right;\n",
       "    }\n",
       "</style>\n",
       "<table border=\"1\" class=\"dataframe\">\n",
       "  <thead>\n",
       "    <tr style=\"text-align: right;\">\n",
       "      <th></th>\n",
       "      <th>Temperature</th>\n",
       "      <th>Humidity</th>\n",
       "      <th>Wind Speed</th>\n",
       "      <th>general diffuse flows</th>\n",
       "      <th>diffuse flows</th>\n",
       "      <th>Year</th>\n",
       "      <th>Month</th>\n",
       "      <th>Day</th>\n",
       "      <th>TotalMinutes</th>\n",
       "    </tr>\n",
       "  </thead>\n",
       "  <tbody>\n",
       "    <tr>\n",
       "      <th>0</th>\n",
       "      <td>-2.222861</td>\n",
       "      <td>0.358089</td>\n",
       "      <td>-0.853606</td>\n",
       "      <td>-0.702507</td>\n",
       "      <td>-0.614268</td>\n",
       "      <td>0.0</td>\n",
       "      <td>-1.590576</td>\n",
       "      <td>-1.673245</td>\n",
       "      <td>-1.720065</td>\n",
       "    </tr>\n",
       "    <tr>\n",
       "      <th>1</th>\n",
       "      <td>-2.248151</td>\n",
       "      <td>0.402658</td>\n",
       "      <td>-0.853606</td>\n",
       "      <td>-0.702437</td>\n",
       "      <td>-0.614534</td>\n",
       "      <td>0.0</td>\n",
       "      <td>-1.590576</td>\n",
       "      <td>-1.673245</td>\n",
       "      <td>-1.696007</td>\n",
       "    </tr>\n",
       "    <tr>\n",
       "      <th>2</th>\n",
       "      <td>-2.248151</td>\n",
       "      <td>0.402658</td>\n",
       "      <td>-0.854868</td>\n",
       "      <td>-0.702466</td>\n",
       "      <td>-0.614534</td>\n",
       "      <td>0.0</td>\n",
       "      <td>-1.590576</td>\n",
       "      <td>-1.673245</td>\n",
       "      <td>-1.671949</td>\n",
       "    </tr>\n",
       "    <tr>\n",
       "      <th>3</th>\n",
       "      <td>-2.299253</td>\n",
       "      <td>0.434494</td>\n",
       "      <td>-0.853606</td>\n",
       "      <td>-0.702466</td>\n",
       "      <td>-0.614448</td>\n",
       "      <td>0.0</td>\n",
       "      <td>-1.590576</td>\n",
       "      <td>-1.673245</td>\n",
       "      <td>-1.647891</td>\n",
       "    </tr>\n",
       "    <tr>\n",
       "      <th>4</th>\n",
       "      <td>-2.334135</td>\n",
       "      <td>0.479064</td>\n",
       "      <td>-0.854447</td>\n",
       "      <td>-0.702466</td>\n",
       "      <td>-0.614534</td>\n",
       "      <td>0.0</td>\n",
       "      <td>-1.590576</td>\n",
       "      <td>-1.673245</td>\n",
       "      <td>-1.623833</td>\n",
       "    </tr>\n",
       "    <tr>\n",
       "      <th>...</th>\n",
       "      <td>...</td>\n",
       "      <td>...</td>\n",
       "      <td>...</td>\n",
       "      <td>...</td>\n",
       "      <td>...</td>\n",
       "      <td>...</td>\n",
       "      <td>...</td>\n",
       "      <td>...</td>\n",
       "      <td>...</td>\n",
       "    </tr>\n",
       "    <tr>\n",
       "      <th>47591</th>\n",
       "      <td>-1.160531</td>\n",
       "      <td>1.128508</td>\n",
       "      <td>-0.857391</td>\n",
       "      <td>-0.702507</td>\n",
       "      <td>-0.614385</td>\n",
       "      <td>0.0</td>\n",
       "      <td>1.578644</td>\n",
       "      <td>1.627942</td>\n",
       "      <td>1.623991</td>\n",
       "    </tr>\n",
       "    <tr>\n",
       "      <th>47592</th>\n",
       "      <td>-1.165763</td>\n",
       "      <td>1.141242</td>\n",
       "      <td>-0.858652</td>\n",
       "      <td>-0.702440</td>\n",
       "      <td>-0.614792</td>\n",
       "      <td>0.0</td>\n",
       "      <td>1.578644</td>\n",
       "      <td>1.627942</td>\n",
       "      <td>1.648049</td>\n",
       "    </tr>\n",
       "    <tr>\n",
       "      <th>47593</th>\n",
       "      <td>-1.164019</td>\n",
       "      <td>1.147609</td>\n",
       "      <td>-0.858652</td>\n",
       "      <td>-0.702451</td>\n",
       "      <td>-0.614385</td>\n",
       "      <td>0.0</td>\n",
       "      <td>1.578644</td>\n",
       "      <td>1.627942</td>\n",
       "      <td>1.672107</td>\n",
       "    </tr>\n",
       "    <tr>\n",
       "      <th>47594</th>\n",
       "      <td>-1.164019</td>\n",
       "      <td>1.141242</td>\n",
       "      <td>-0.858652</td>\n",
       "      <td>-0.702451</td>\n",
       "      <td>-0.614589</td>\n",
       "      <td>0.0</td>\n",
       "      <td>1.578644</td>\n",
       "      <td>1.627942</td>\n",
       "      <td>1.696165</td>\n",
       "    </tr>\n",
       "    <tr>\n",
       "      <th>47595</th>\n",
       "      <td>-1.237271</td>\n",
       "      <td>1.128508</td>\n",
       "      <td>-0.857811</td>\n",
       "      <td>-0.702588</td>\n",
       "      <td>-0.614182</td>\n",
       "      <td>0.0</td>\n",
       "      <td>1.578644</td>\n",
       "      <td>1.627942</td>\n",
       "      <td>1.720223</td>\n",
       "    </tr>\n",
       "  </tbody>\n",
       "</table>\n",
       "<p>47596 rows × 9 columns</p>\n",
       "</div>"
      ],
      "text/plain": [
       "       Temperature  Humidity  Wind Speed  general diffuse flows  \\\n",
       "0        -2.222861  0.358089   -0.853606              -0.702507   \n",
       "1        -2.248151  0.402658   -0.853606              -0.702437   \n",
       "2        -2.248151  0.402658   -0.854868              -0.702466   \n",
       "3        -2.299253  0.434494   -0.853606              -0.702466   \n",
       "4        -2.334135  0.479064   -0.854447              -0.702466   \n",
       "...            ...       ...         ...                    ...   \n",
       "47591    -1.160531  1.128508   -0.857391              -0.702507   \n",
       "47592    -1.165763  1.141242   -0.858652              -0.702440   \n",
       "47593    -1.164019  1.147609   -0.858652              -0.702451   \n",
       "47594    -1.164019  1.141242   -0.858652              -0.702451   \n",
       "47595    -1.237271  1.128508   -0.857811              -0.702588   \n",
       "\n",
       "       diffuse flows  Year     Month       Day  TotalMinutes  \n",
       "0          -0.614268   0.0 -1.590576 -1.673245     -1.720065  \n",
       "1          -0.614534   0.0 -1.590576 -1.673245     -1.696007  \n",
       "2          -0.614534   0.0 -1.590576 -1.673245     -1.671949  \n",
       "3          -0.614448   0.0 -1.590576 -1.673245     -1.647891  \n",
       "4          -0.614534   0.0 -1.590576 -1.673245     -1.623833  \n",
       "...              ...   ...       ...       ...           ...  \n",
       "47591      -0.614385   0.0  1.578644  1.627942      1.623991  \n",
       "47592      -0.614792   0.0  1.578644  1.627942      1.648049  \n",
       "47593      -0.614385   0.0  1.578644  1.627942      1.672107  \n",
       "47594      -0.614589   0.0  1.578644  1.627942      1.696165  \n",
       "47595      -0.614182   0.0  1.578644  1.627942      1.720223  \n",
       "\n",
       "[47596 rows x 9 columns]"
      ]
     },
     "execution_count": 37,
     "metadata": {},
     "output_type": "execute_result"
    }
   ],
   "source": [
    "x"
   ]
  },
  {
   "cell_type": "code",
   "execution_count": 38,
   "id": "bae4694c",
   "metadata": {
    "execution": {
     "iopub.execute_input": "2023-02-26T05:37:43.794917Z",
     "iopub.status.busy": "2023-02-26T05:37:43.794467Z",
     "iopub.status.idle": "2023-02-26T05:37:43.804280Z",
     "shell.execute_reply": "2023-02-26T05:37:43.802777Z"
    },
    "papermill": {
     "duration": 0.032643,
     "end_time": "2023-02-26T05:37:43.806986",
     "exception": false,
     "start_time": "2023-02-26T05:37:43.774343",
     "status": "completed"
    },
    "tags": []
   },
   "outputs": [
    {
     "data": {
      "text/plain": [
       "0        34055.69620\n",
       "1        29814.68354\n",
       "2        29128.10127\n",
       "3        28228.86076\n",
       "4        27335.69620\n",
       "            ...     \n",
       "47591    31347.69231\n",
       "47592    30603.07692\n",
       "47593    29889.23077\n",
       "47594    29249.23077\n",
       "47595    28584.61538\n",
       "Name: Zone 1 Power Consumption, Length: 47596, dtype: float64"
      ]
     },
     "execution_count": 38,
     "metadata": {},
     "output_type": "execute_result"
    }
   ],
   "source": [
    "y1"
   ]
  },
  {
   "cell_type": "code",
   "execution_count": 39,
   "id": "aefa0e63",
   "metadata": {
    "execution": {
     "iopub.execute_input": "2023-02-26T05:37:43.846634Z",
     "iopub.status.busy": "2023-02-26T05:37:43.846174Z",
     "iopub.status.idle": "2023-02-26T05:37:44.043557Z",
     "shell.execute_reply": "2023-02-26T05:37:44.041966Z"
    },
    "papermill": {
     "duration": 0.220814,
     "end_time": "2023-02-26T05:37:44.046658",
     "exception": false,
     "start_time": "2023-02-26T05:37:43.825844",
     "status": "completed"
    },
    "tags": []
   },
   "outputs": [],
   "source": [
    "import xgboost as xgb\n",
    "from sklearn.metrics import mean_squared_error\n",
    "from sklearn.model_selection import train_test_split\n",
    "from sklearn.metrics import mean_absolute_percentage_error\n",
    "\n",
    "# Load the data\n",
    "# train_data = pd.read_csv(\"train.csv\")\n",
    "\n"
   ]
  },
  {
   "cell_type": "code",
   "execution_count": 40,
   "id": "6f34e50c",
   "metadata": {
    "execution": {
     "iopub.execute_input": "2023-02-26T05:37:44.158495Z",
     "iopub.status.busy": "2023-02-26T05:37:44.158081Z",
     "iopub.status.idle": "2023-02-26T05:37:44.174143Z",
     "shell.execute_reply": "2023-02-26T05:37:44.172689Z"
    },
    "papermill": {
     "duration": 0.038888,
     "end_time": "2023-02-26T05:37:44.177201",
     "exception": false,
     "start_time": "2023-02-26T05:37:44.138313",
     "status": "completed"
    },
    "tags": []
   },
   "outputs": [],
   "source": [
    "def func(df_train):\n",
    "    df_train.fillna(method='ffill', inplace=True)\n",
    "    col=list(df_train.columns)\n",
    "    cols_to_normalize = col[1:6]\n",
    "\n",
    "    # Create the scaler object\n",
    "    scaler = StandardScaler()\n",
    "\n",
    "    # Fit and transform the selected columns\n",
    "    normalized_data = scaler.fit_transform(df_train[cols_to_normalize])\n",
    "\n",
    "    # Replace the original values with the normalized values\n",
    "    df_train[cols_to_normalize] = normalized_data\n",
    "    \n",
    "    df_train[['Date', 'Time']] = df_train['DateTime'].str.split(' ', expand=True)\n",
    "\n",
    "    # Extract Year, Month, and Day from Date column\n",
    "    df_train[['Year', 'Month', 'Day']] = df_train['Date'].str.split('-', expand=True)\n",
    "\n",
    "    # Combine Hour, Minute, and Second into Time column\n",
    "    df_train['Time'] = df_train['Time'].str.split(':').apply(lambda x: x[0] + ':' + x[1])\n",
    "\n",
    "    # Drop original DateTime and Date columns\n",
    "    df_train= df_train.drop(columns=['DateTime', 'Date'])\n",
    "    # Split Time column into separate Hour and Minute columns\n",
    "    df_train[['Hour', 'Minute']] = df_train['Time'].str.split(':', expand=True)\n",
    "\n",
    "    # Convert Hour and Minute columns to integers\n",
    "    df_train['Hour'] = df_train['Hour'].astype(int)\n",
    "    df_train['Minute'] =df_train['Minute'].astype(int)\n",
    "\n",
    "    # Calculate total number of minutes\n",
    "    df_train['TotalMinutes'] = (df_train['Hour'] * 60) + df_train['Minute']\n",
    "\n",
    "    # Drop original Time, Hour, and Minute columns\n",
    "    df_train = df_train.drop(columns=['Time', 'Hour', 'Minute'])\n",
    "    df_train['Year']=df_train['Year'].astype('int64')\n",
    "    df_train['Month']=df_train['Month'].astype('int64')\n",
    "    df_train['Day']=df_train['Day'].astype('int64')\n",
    "    l1=list(df_train.columns)\n",
    "    print(l1)\n",
    "    l1=l1[5:]\n",
    "    cols_to_normalize=l1\n",
    "    normalized_data = scaler.fit_transform(df_train[cols_to_normalize])\n",
    "\n",
    "    # Replace the original values with the normalized values\n",
    "    df_train[cols_to_normalize] = normalized_data\n",
    "    return df_train\n",
    "    \n",
    "    \n",
    "    \n",
    "\n",
    "    "
   ]
  },
  {
   "cell_type": "code",
   "execution_count": 41,
   "id": "1f2eedd1",
   "metadata": {
    "execution": {
     "iopub.execute_input": "2023-02-26T05:37:44.214860Z",
     "iopub.status.busy": "2023-02-26T05:37:44.214382Z",
     "iopub.status.idle": "2023-02-26T05:37:44.278587Z",
     "shell.execute_reply": "2023-02-26T05:37:44.277130Z"
    },
    "papermill": {
     "duration": 0.087198,
     "end_time": "2023-02-26T05:37:44.282226",
     "exception": false,
     "start_time": "2023-02-26T05:37:44.195028",
     "status": "completed"
    },
    "tags": []
   },
   "outputs": [
    {
     "name": "stdout",
     "output_type": "stream",
     "text": [
      "['Temperature', 'Humidity', 'Wind Speed', 'general diffuse flows', 'diffuse flows', 'Year', 'Month', 'Day', 'TotalMinutes']\n"
     ]
    }
   ],
   "source": [
    "df1=func(df_test)"
   ]
  },
  {
   "cell_type": "code",
   "execution_count": 42,
   "id": "1fe0b044",
   "metadata": {
    "execution": {
     "iopub.execute_input": "2023-02-26T05:37:44.321096Z",
     "iopub.status.busy": "2023-02-26T05:37:44.320667Z",
     "iopub.status.idle": "2023-02-26T05:37:44.343700Z",
     "shell.execute_reply": "2023-02-26T05:37:44.342678Z"
    },
    "papermill": {
     "duration": 0.044935,
     "end_time": "2023-02-26T05:37:44.346194",
     "exception": false,
     "start_time": "2023-02-26T05:37:44.301259",
     "status": "completed"
    },
    "tags": []
   },
   "outputs": [
    {
     "data": {
      "text/html": [
       "<div>\n",
       "<style scoped>\n",
       "    .dataframe tbody tr th:only-of-type {\n",
       "        vertical-align: middle;\n",
       "    }\n",
       "\n",
       "    .dataframe tbody tr th {\n",
       "        vertical-align: top;\n",
       "    }\n",
       "\n",
       "    .dataframe thead th {\n",
       "        text-align: right;\n",
       "    }\n",
       "</style>\n",
       "<table border=\"1\" class=\"dataframe\">\n",
       "  <thead>\n",
       "    <tr style=\"text-align: right;\">\n",
       "      <th></th>\n",
       "      <th>Temperature</th>\n",
       "      <th>Humidity</th>\n",
       "      <th>Wind Speed</th>\n",
       "      <th>general diffuse flows</th>\n",
       "      <th>diffuse flows</th>\n",
       "      <th>Year</th>\n",
       "      <th>Month</th>\n",
       "      <th>Day</th>\n",
       "      <th>TotalMinutes</th>\n",
       "    </tr>\n",
       "  </thead>\n",
       "  <tbody>\n",
       "    <tr>\n",
       "      <th>0</th>\n",
       "      <td>1.732345</td>\n",
       "      <td>-0.984161</td>\n",
       "      <td>-0.187036</td>\n",
       "      <td>-0.616525</td>\n",
       "      <td>-0.605367</td>\n",
       "      <td>0.0</td>\n",
       "      <td>0.0</td>\n",
       "      <td>-1.675247</td>\n",
       "      <td>-1.720064</td>\n",
       "    </tr>\n",
       "    <tr>\n",
       "      <th>1</th>\n",
       "      <td>1.708401</td>\n",
       "      <td>-0.916212</td>\n",
       "      <td>-0.193829</td>\n",
       "      <td>-0.616413</td>\n",
       "      <td>-0.605492</td>\n",
       "      <td>0.0</td>\n",
       "      <td>0.0</td>\n",
       "      <td>-1.675247</td>\n",
       "      <td>-1.696007</td>\n",
       "    </tr>\n",
       "    <tr>\n",
       "      <th>2</th>\n",
       "      <td>1.675478</td>\n",
       "      <td>-0.813192</td>\n",
       "      <td>-0.196094</td>\n",
       "      <td>-0.616388</td>\n",
       "      <td>-0.605296</td>\n",
       "      <td>0.0</td>\n",
       "      <td>0.0</td>\n",
       "      <td>-1.675247</td>\n",
       "      <td>-1.671950</td>\n",
       "    </tr>\n",
       "    <tr>\n",
       "      <th>3</th>\n",
       "      <td>1.645549</td>\n",
       "      <td>-0.749626</td>\n",
       "      <td>-0.193829</td>\n",
       "      <td>-0.616575</td>\n",
       "      <td>-0.605367</td>\n",
       "      <td>0.0</td>\n",
       "      <td>0.0</td>\n",
       "      <td>-1.675247</td>\n",
       "      <td>-1.647894</td>\n",
       "    </tr>\n",
       "    <tr>\n",
       "      <th>4</th>\n",
       "      <td>1.642556</td>\n",
       "      <td>-0.676562</td>\n",
       "      <td>-0.196094</td>\n",
       "      <td>-0.616550</td>\n",
       "      <td>-0.605492</td>\n",
       "      <td>0.0</td>\n",
       "      <td>0.0</td>\n",
       "      <td>-1.675247</td>\n",
       "      <td>-1.623837</td>\n",
       "    </tr>\n",
       "    <tr>\n",
       "      <th>...</th>\n",
       "      <td>...</td>\n",
       "      <td>...</td>\n",
       "      <td>...</td>\n",
       "      <td>...</td>\n",
       "      <td>...</td>\n",
       "      <td>...</td>\n",
       "      <td>...</td>\n",
       "      <td>...</td>\n",
       "      <td>...</td>\n",
       "    </tr>\n",
       "    <tr>\n",
       "      <th>4315</th>\n",
       "      <td>-1.877193</td>\n",
       "      <td>0.230891</td>\n",
       "      <td>-0.193829</td>\n",
       "      <td>-0.616575</td>\n",
       "      <td>-0.605438</td>\n",
       "      <td>0.0</td>\n",
       "      <td>0.0</td>\n",
       "      <td>1.675247</td>\n",
       "      <td>1.623837</td>\n",
       "    </tr>\n",
       "    <tr>\n",
       "      <th>4316</th>\n",
       "      <td>-1.896049</td>\n",
       "      <td>0.245504</td>\n",
       "      <td>-0.191565</td>\n",
       "      <td>-0.616506</td>\n",
       "      <td>-0.605492</td>\n",
       "      <td>0.0</td>\n",
       "      <td>0.0</td>\n",
       "      <td>1.675247</td>\n",
       "      <td>1.647894</td>\n",
       "    </tr>\n",
       "    <tr>\n",
       "      <th>4317</th>\n",
       "      <td>-1.910116</td>\n",
       "      <td>0.260117</td>\n",
       "      <td>-0.187036</td>\n",
       "      <td>-0.616301</td>\n",
       "      <td>-0.605829</td>\n",
       "      <td>0.0</td>\n",
       "      <td>0.0</td>\n",
       "      <td>1.675247</td>\n",
       "      <td>1.671950</td>\n",
       "    </tr>\n",
       "    <tr>\n",
       "      <th>4318</th>\n",
       "      <td>-1.952616</td>\n",
       "      <td>0.274729</td>\n",
       "      <td>-0.193829</td>\n",
       "      <td>-0.616413</td>\n",
       "      <td>-0.605563</td>\n",
       "      <td>0.0</td>\n",
       "      <td>0.0</td>\n",
       "      <td>1.675247</td>\n",
       "      <td>1.696007</td>\n",
       "    </tr>\n",
       "    <tr>\n",
       "      <th>4319</th>\n",
       "      <td>-2.005891</td>\n",
       "      <td>0.355100</td>\n",
       "      <td>-0.192697</td>\n",
       "      <td>-0.616438</td>\n",
       "      <td>-0.605172</td>\n",
       "      <td>0.0</td>\n",
       "      <td>0.0</td>\n",
       "      <td>1.675247</td>\n",
       "      <td>1.720064</td>\n",
       "    </tr>\n",
       "  </tbody>\n",
       "</table>\n",
       "<p>4320 rows × 9 columns</p>\n",
       "</div>"
      ],
      "text/plain": [
       "      Temperature  Humidity  Wind Speed  general diffuse flows  diffuse flows  \\\n",
       "0        1.732345 -0.984161   -0.187036              -0.616525      -0.605367   \n",
       "1        1.708401 -0.916212   -0.193829              -0.616413      -0.605492   \n",
       "2        1.675478 -0.813192   -0.196094              -0.616388      -0.605296   \n",
       "3        1.645549 -0.749626   -0.193829              -0.616575      -0.605367   \n",
       "4        1.642556 -0.676562   -0.196094              -0.616550      -0.605492   \n",
       "...           ...       ...         ...                    ...            ...   \n",
       "4315    -1.877193  0.230891   -0.193829              -0.616575      -0.605438   \n",
       "4316    -1.896049  0.245504   -0.191565              -0.616506      -0.605492   \n",
       "4317    -1.910116  0.260117   -0.187036              -0.616301      -0.605829   \n",
       "4318    -1.952616  0.274729   -0.193829              -0.616413      -0.605563   \n",
       "4319    -2.005891  0.355100   -0.192697              -0.616438      -0.605172   \n",
       "\n",
       "      Year  Month       Day  TotalMinutes  \n",
       "0      0.0    0.0 -1.675247     -1.720064  \n",
       "1      0.0    0.0 -1.675247     -1.696007  \n",
       "2      0.0    0.0 -1.675247     -1.671950  \n",
       "3      0.0    0.0 -1.675247     -1.647894  \n",
       "4      0.0    0.0 -1.675247     -1.623837  \n",
       "...    ...    ...       ...           ...  \n",
       "4315   0.0    0.0  1.675247      1.623837  \n",
       "4316   0.0    0.0  1.675247      1.647894  \n",
       "4317   0.0    0.0  1.675247      1.671950  \n",
       "4318   0.0    0.0  1.675247      1.696007  \n",
       "4319   0.0    0.0  1.675247      1.720064  \n",
       "\n",
       "[4320 rows x 9 columns]"
      ]
     },
     "execution_count": 42,
     "metadata": {},
     "output_type": "execute_result"
    }
   ],
   "source": [
    "df1"
   ]
  },
  {
   "cell_type": "code",
   "execution_count": 43,
   "id": "dc07bbad",
   "metadata": {
    "execution": {
     "iopub.execute_input": "2023-02-26T05:37:44.385637Z",
     "iopub.status.busy": "2023-02-26T05:37:44.385177Z",
     "iopub.status.idle": "2023-02-26T05:37:50.158884Z",
     "shell.execute_reply": "2023-02-26T05:37:50.157197Z"
    },
    "papermill": {
     "duration": 5.797952,
     "end_time": "2023-02-26T05:37:50.162886",
     "exception": false,
     "start_time": "2023-02-26T05:37:44.364934",
     "status": "completed"
    },
    "tags": []
   },
   "outputs": [
    {
     "name": "stdout",
     "output_type": "stream",
     "text": [
      "Mean squared error: 0.04118014931682834\n"
     ]
    }
   ],
   "source": [
    "import xgboost as xgb\n",
    "from sklearn.metrics import mean_squared_error\n",
    "from sklearn.model_selection import train_test_split\n",
    "from sklearn.metrics import mean_absolute_percentage_error\n",
    "\n",
    "# Load the data\n",
    "# train_data = pd.read_csv(\"train.csv\")\n",
    "\n",
    "# Split the data into features and target variable\n",
    "# X = x\n",
    "# y = train_data[\"target_variable\"]\n",
    "\n",
    "# Preprocess the data\n",
    "# ...\n",
    "\n",
    "# Split the data into training and validation sets\n",
    "X_train, X_val, y_train, y_val = train_test_split(x, y1, test_size=0.2, random_state=42)\n",
    "\n",
    "# Create the Gradient Boosting model\n",
    "model1= xgb.XGBRegressor(n_estimators=500, learning_rate=0.1, max_depth=3)\n",
    "model1.fit(X_train, y_train)\n",
    "# model2= xgb.XGBRegressor(n_estimators=100, learning_rate=0.1, max_depth=3)\n",
    "# model2.fit(x, y1)\n",
    "# model3= xgb.XGBRegressor(n_estimators=100, learning_rate=0.1, max_depth=3)\n",
    "# model3.fit(x, y1)\n",
    "\n",
    "# Evaluate the model\n",
    "y_pred = model1.predict(X_val)\n",
    "mse = mean_absolute_percentage_error(y_val, y_pred)\n",
    "print(\"Mean squared error:\", mse)"
   ]
  },
  {
   "cell_type": "code",
   "execution_count": 44,
   "id": "4b26cc3e",
   "metadata": {
    "execution": {
     "iopub.execute_input": "2023-02-26T05:37:50.204257Z",
     "iopub.status.busy": "2023-02-26T05:37:50.202790Z",
     "iopub.status.idle": "2023-02-26T05:37:56.881101Z",
     "shell.execute_reply": "2023-02-26T05:37:56.879874Z"
    },
    "papermill": {
     "duration": 6.70312,
     "end_time": "2023-02-26T05:37:56.884891",
     "exception": false,
     "start_time": "2023-02-26T05:37:50.181771",
     "status": "completed"
    },
    "tags": []
   },
   "outputs": [
    {
     "name": "stdout",
     "output_type": "stream",
     "text": [
      "Mean squared error: 0.05645862663085137\n"
     ]
    }
   ],
   "source": [
    "X_train, X_val, y_train, y_val = train_test_split(x, y2, test_size=0.2, random_state=42)\n",
    "\n",
    "# Create the Gradient Boosting model\n",
    "model2= xgb.XGBRegressor(n_estimators=500, learning_rate=0.1, max_depth=3)\n",
    "model2.fit(X_train, y_train)\n",
    "y_pred = model2.predict(X_val)\n",
    "mse = mean_absolute_percentage_error(y_val, y_pred)\n",
    "print(\"Mean squared error:\", mse)"
   ]
  },
  {
   "cell_type": "code",
   "execution_count": 45,
   "id": "aeb115fd",
   "metadata": {
    "execution": {
     "iopub.execute_input": "2023-02-26T05:37:56.925855Z",
     "iopub.status.busy": "2023-02-26T05:37:56.925047Z",
     "iopub.status.idle": "2023-02-26T05:38:02.568524Z",
     "shell.execute_reply": "2023-02-26T05:38:02.567279Z"
    },
    "papermill": {
     "duration": 5.667573,
     "end_time": "2023-02-26T05:38:02.571400",
     "exception": false,
     "start_time": "2023-02-26T05:37:56.903827",
     "status": "completed"
    },
    "tags": []
   },
   "outputs": [
    {
     "name": "stdout",
     "output_type": "stream",
     "text": [
      "Mean squared error: 0.04641259989199251\n"
     ]
    }
   ],
   "source": [
    "X_train, X_val, y_train, y_val = train_test_split(x, y3, test_size=0.2, random_state=42)\n",
    "\n",
    "# Create the Gradient Boosting model\n",
    "model3= xgb.XGBRegressor(n_estimators=500, learning_rate=0.1, max_depth=3)\n",
    "model3.fit(X_train, y_train)\n",
    "y_pred = model3.predict(X_val)\n",
    "mse = mean_absolute_percentage_error(y_val, y_pred)\n",
    "print(\"Mean squared error:\", mse)"
   ]
  },
  {
   "cell_type": "code",
   "execution_count": 46,
   "id": "a67dcbd1",
   "metadata": {
    "execution": {
     "iopub.execute_input": "2023-02-26T05:38:02.687237Z",
     "iopub.status.busy": "2023-02-26T05:38:02.686763Z",
     "iopub.status.idle": "2023-02-26T05:38:02.708790Z",
     "shell.execute_reply": "2023-02-26T05:38:02.707657Z"
    },
    "papermill": {
     "duration": 0.046724,
     "end_time": "2023-02-26T05:38:02.711763",
     "exception": false,
     "start_time": "2023-02-26T05:38:02.665039",
     "status": "completed"
    },
    "tags": []
   },
   "outputs": [],
   "source": [
    "y1_test=model1.predict(df1)"
   ]
  },
  {
   "cell_type": "code",
   "execution_count": 47,
   "id": "1c928c02",
   "metadata": {
    "execution": {
     "iopub.execute_input": "2023-02-26T05:38:02.751963Z",
     "iopub.status.busy": "2023-02-26T05:38:02.750576Z",
     "iopub.status.idle": "2023-02-26T05:38:02.770437Z",
     "shell.execute_reply": "2023-02-26T05:38:02.769325Z"
    },
    "papermill": {
     "duration": 0.042661,
     "end_time": "2023-02-26T05:38:02.773415",
     "exception": false,
     "start_time": "2023-02-26T05:38:02.730754",
     "status": "completed"
    },
    "tags": []
   },
   "outputs": [],
   "source": [
    "y2_test=model2.predict(df1)"
   ]
  },
  {
   "cell_type": "code",
   "execution_count": 48,
   "id": "9ae56f91",
   "metadata": {
    "execution": {
     "iopub.execute_input": "2023-02-26T05:38:02.812341Z",
     "iopub.status.busy": "2023-02-26T05:38:02.811528Z",
     "iopub.status.idle": "2023-02-26T05:38:02.830954Z",
     "shell.execute_reply": "2023-02-26T05:38:02.829826Z"
    },
    "papermill": {
     "duration": 0.042116,
     "end_time": "2023-02-26T05:38:02.833894",
     "exception": false,
     "start_time": "2023-02-26T05:38:02.791778",
     "status": "completed"
    },
    "tags": []
   },
   "outputs": [],
   "source": [
    "y3_test=model3.predict(df1)"
   ]
  },
  {
   "cell_type": "code",
   "execution_count": 49,
   "id": "28a44d70",
   "metadata": {
    "execution": {
     "iopub.execute_input": "2023-02-26T05:38:02.874741Z",
     "iopub.status.busy": "2023-02-26T05:38:02.873829Z",
     "iopub.status.idle": "2023-02-26T05:38:02.882794Z",
     "shell.execute_reply": "2023-02-26T05:38:02.881283Z"
    },
    "papermill": {
     "duration": 0.032617,
     "end_time": "2023-02-26T05:38:02.885987",
     "exception": false,
     "start_time": "2023-02-26T05:38:02.853370",
     "status": "completed"
    },
    "tags": []
   },
   "outputs": [
    {
     "data": {
      "text/plain": [
       "array([38629.3  , 37778.4  , 36093.36 , ..., 36353.34 , 36650.902,\n",
       "       36809.88 ], dtype=float32)"
      ]
     },
     "execution_count": 49,
     "metadata": {},
     "output_type": "execute_result"
    }
   ],
   "source": [
    "y1_test"
   ]
  },
  {
   "cell_type": "code",
   "execution_count": 50,
   "id": "ca9a3a9c",
   "metadata": {
    "execution": {
     "iopub.execute_input": "2023-02-26T05:38:02.926303Z",
     "iopub.status.busy": "2023-02-26T05:38:02.924901Z",
     "iopub.status.idle": "2023-02-26T05:38:02.931381Z",
     "shell.execute_reply": "2023-02-26T05:38:02.929894Z"
    },
    "papermill": {
     "duration": 0.029681,
     "end_time": "2023-02-26T05:38:02.934170",
     "exception": false,
     "start_time": "2023-02-26T05:38:02.904489",
     "status": "completed"
    },
    "tags": []
   },
   "outputs": [],
   "source": [
    "time=df_test['DateTime']"
   ]
  },
  {
   "cell_type": "code",
   "execution_count": 51,
   "id": "f5f36b3e",
   "metadata": {
    "execution": {
     "iopub.execute_input": "2023-02-26T05:38:02.973705Z",
     "iopub.status.busy": "2023-02-26T05:38:02.972653Z",
     "iopub.status.idle": "2023-02-26T05:38:03.001016Z",
     "shell.execute_reply": "2023-02-26T05:38:02.999923Z"
    },
    "papermill": {
     "duration": 0.052624,
     "end_time": "2023-02-26T05:38:03.005301",
     "exception": false,
     "start_time": "2023-02-26T05:38:02.952677",
     "status": "completed"
    },
    "tags": []
   },
   "outputs": [],
   "source": [
    "df = pd.DataFrame({'DateTime': time, 'Zone 1 Power Consumption': y1_test, 'Zone 2  Power Consumption':y2_test,'Zone 3  Power Consumption':y3_test})\n",
    "\n",
    "# Use the to_csv() method to write the dataframe to a CSV file\n",
    "df.to_csv('submission.csv',index=False)"
   ]
  },
  {
   "cell_type": "code",
   "execution_count": null,
   "id": "a802e137",
   "metadata": {
    "papermill": {
     "duration": 0.018262,
     "end_time": "2023-02-26T05:38:03.043453",
     "exception": false,
     "start_time": "2023-02-26T05:38:03.025191",
     "status": "completed"
    },
    "tags": []
   },
   "outputs": [],
   "source": []
  }
 ],
 "metadata": {
  "kernelspec": {
   "display_name": "Python 3",
   "language": "python",
   "name": "python3"
  },
  "language_info": {
   "codemirror_mode": {
    "name": "ipython",
    "version": 3
   },
   "file_extension": ".py",
   "mimetype": "text/x-python",
   "name": "python",
   "nbconvert_exporter": "python",
   "pygments_lexer": "ipython3",
   "version": "3.7.12"
  },
  "papermill": {
   "default_parameters": {},
   "duration": 35.685152,
   "end_time": "2023-02-26T05:38:03.886630",
   "environment_variables": {},
   "exception": null,
   "input_path": "__notebook__.ipynb",
   "output_path": "__notebook__.ipynb",
   "parameters": {},
   "start_time": "2023-02-26T05:37:28.201478",
   "version": "2.4.0"
  }
 },
 "nbformat": 4,
 "nbformat_minor": 5
}
